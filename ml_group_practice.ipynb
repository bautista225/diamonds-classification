{
 "cells": [
  {
   "cell_type": "markdown",
   "metadata": {},
   "source": [
    "# 1. Importing modules."
   ]
  },
  {
   "cell_type": "code",
   "execution_count": 2,
   "metadata": {},
   "outputs": [
    {
     "name": "stderr",
     "output_type": "stream",
     "text": [
      "\u001b[32m\u001b[1m   Resolving\u001b[22m\u001b[39m package versions...\n",
      "\u001b[32m\u001b[1m  No Changes\u001b[22m\u001b[39m to `C:\\Users\\Juan\\.julia\\environments\\v1.8\\Project.toml`\n",
      "\u001b[32m\u001b[1m  No Changes\u001b[22m\u001b[39m to `C:\\Users\\Juan\\.julia\\environments\\v1.8\\Manifest.toml`\n",
      "\u001b[32m\u001b[1m   Resolving\u001b[22m\u001b[39m package versions...\n",
      "\u001b[32m\u001b[1m  No Changes\u001b[22m\u001b[39m to `C:\\Users\\Juan\\.julia\\environments\\v1.8\\Project.toml`\n",
      "\u001b[32m\u001b[1m  No Changes\u001b[22m\u001b[39m to `C:\\Users\\Juan\\.julia\\environments\\v1.8\\Manifest.toml`\n",
      "\u001b[32m\u001b[1m   Resolving\u001b[22m\u001b[39m package versions...\n",
      "\u001b[32m\u001b[1m  No Changes\u001b[22m\u001b[39m to `C:\\Users\\Juan\\.julia\\environments\\v1.8\\Project.toml`\n",
      "\u001b[32m\u001b[1m  No Changes\u001b[22m\u001b[39m to `C:\\Users\\Juan\\.julia\\environments\\v1.8\\Manifest.toml`\n",
      "\u001b[32m\u001b[1m   Resolving\u001b[22m\u001b[39m package versions...\n",
      "\u001b[32m\u001b[1m  No Changes\u001b[22m\u001b[39m to `C:\\Users\\Juan\\.julia\\environments\\v1.8\\Project.toml`\n",
      "\u001b[32m\u001b[1m  No Changes\u001b[22m\u001b[39m to `C:\\Users\\Juan\\.julia\\environments\\v1.8\\Manifest.toml`\n",
      "\u001b[32m\u001b[1m   Resolving\u001b[22m\u001b[39m package versions...\n",
      "\u001b[32m\u001b[1m  No Changes\u001b[22m\u001b[39m to `C:\\Users\\Juan\\.julia\\environments\\v1.8\\Project.toml`\n",
      "\u001b[32m\u001b[1m  No Changes\u001b[22m\u001b[39m to `C:\\Users\\Juan\\.julia\\environments\\v1.8\\Manifest.toml`\n",
      "\u001b[32m\u001b[1m   Resolving\u001b[22m\u001b[39m package versions...\n",
      "\u001b[32m\u001b[1m  No Changes\u001b[22m\u001b[39m to `C:\\Users\\Juan\\.julia\\environments\\v1.8\\Project.toml`\n",
      "\u001b[32m\u001b[1m  No Changes\u001b[22m\u001b[39m to `C:\\Users\\Juan\\.julia\\environments\\v1.8\\Manifest.toml`\n",
      "WARNING: redefinition of constant SVC. This may fail, cause incorrect answers, or produce other errors.\n",
      "WARNING: redefinition of constant DecisionTreeClassifier. This may fail, cause incorrect answers, or produce other errors.\n",
      "WARNING: redefinition of constant KNeighborsClassifier. This may fail, cause incorrect answers, or produce other errors.\n",
      "\u001b[32m\u001b[1m   Resolving\u001b[22m\u001b[39m package versions...\n",
      "\u001b[32m\u001b[1m  No Changes\u001b[22m\u001b[39m to `C:\\Users\\Juan\\.julia\\environments\\v1.8\\Project.toml`\n",
      "\u001b[32m\u001b[1m  No Changes\u001b[22m\u001b[39m to `C:\\Users\\Juan\\.julia\\environments\\v1.8\\Manifest.toml`\n"
     ]
    },
    {
     "data": {
      "application/vnd.webio.node+json": {
       "children": [],
       "instanceArgs": {
        "namespace": "html",
        "tag": "div"
       },
       "nodeType": "DOM",
       "props": {},
       "type": "node"
      },
      "text/html": [
       "<div style=\"padding: 1em; background-color: #f8d6da; border: 1px solid #f5c6cb; font-weight: bold;\">\n",
       "<p>The WebIO Jupyter extension was not detected. See the\n",
       "<a href=\"https://juliagizmos.github.io/WebIO.jl/latest/providers/ijulia/\" target=\"_blank\">\n",
       "    WebIO Jupyter integration documentation\n",
       "</a>\n",
       "for more information.\n",
       "</div>\n"
      ],
      "text/plain": [
       "WebIO._IJuliaInit()"
      ]
     },
     "metadata": {},
     "output_type": "display_data"
    }
   ],
   "source": [
    "# Loading assignments functions.\n",
    "\n",
    "include(\"assignments_functions.jl\");\n",
    "include(\"practice_functions.jl\");"
   ]
  },
  {
   "cell_type": "code",
   "execution_count": 3,
   "metadata": {},
   "outputs": [
    {
     "name": "stderr",
     "output_type": "stream",
     "text": [
      "\u001b[32m\u001b[1m   Resolving\u001b[22m\u001b[39m package versions...\n",
      "\u001b[32m\u001b[1m  No Changes\u001b[22m\u001b[39m to `C:\\Users\\Juan\\.julia\\environments\\v1.8\\Project.toml`\n",
      "\u001b[32m\u001b[1m  No Changes\u001b[22m\u001b[39m to `C:\\Users\\Juan\\.julia\\environments\\v1.8\\Manifest.toml`\n",
      "\u001b[32m\u001b[1m   Resolving\u001b[22m\u001b[39m package versions...\n",
      "\u001b[32m\u001b[1m  No Changes\u001b[22m\u001b[39m to `C:\\Users\\Juan\\.julia\\environments\\v1.8\\Project.toml`\n",
      "\u001b[32m\u001b[1m  No Changes\u001b[22m\u001b[39m to `C:\\Users\\Juan\\.julia\\environments\\v1.8\\Manifest.toml`\n"
     ]
    }
   ],
   "source": [
    "# Importing modules\n",
    "\n",
    "import Pkg; \n",
    "Pkg.add(\"CSV\");\n",
    "Pkg.add(\"DataFrames\");\n",
    "\n",
    "using CSV;\n",
    "using DataFrames;"
   ]
  },
  {
   "cell_type": "markdown",
   "metadata": {},
   "source": [
    "# 2. Data preprocessing."
   ]
  },
  {
   "cell_type": "code",
   "execution_count": 4,
   "metadata": {},
   "outputs": [
    {
     "data": {
      "text/html": [
       "<div class=\"data-frame\"><p>53,940 rows × 11 columns (omitted printing of 2 columns)</p><table class=\"data-frame\"><thead><tr><th></th><th>Column1</th><th>carat</th><th>cut</th><th>color</th><th>clarity</th><th>depth</th><th>table</th><th>price</th><th>x</th></tr><tr><th></th><th title=\"Int64\">Int64</th><th title=\"Float64\">Float64</th><th title=\"String15\">String15</th><th title=\"String1\">String1</th><th title=\"String7\">String7</th><th title=\"Float64\">Float64</th><th title=\"Float64\">Float64</th><th title=\"Int64\">Int64</th><th title=\"Float64\">Float64</th></tr></thead><tbody><tr><th>1</th><td>1</td><td>0.23</td><td>Ideal</td><td>E</td><td>SI2</td><td>61.5</td><td>55.0</td><td>326</td><td>3.95</td></tr><tr><th>2</th><td>2</td><td>0.21</td><td>Premium</td><td>E</td><td>SI1</td><td>59.8</td><td>61.0</td><td>326</td><td>3.89</td></tr><tr><th>3</th><td>3</td><td>0.23</td><td>Good</td><td>E</td><td>VS1</td><td>56.9</td><td>65.0</td><td>327</td><td>4.05</td></tr><tr><th>4</th><td>4</td><td>0.29</td><td>Premium</td><td>I</td><td>VS2</td><td>62.4</td><td>58.0</td><td>334</td><td>4.2</td></tr><tr><th>5</th><td>5</td><td>0.31</td><td>Good</td><td>J</td><td>SI2</td><td>63.3</td><td>58.0</td><td>335</td><td>4.34</td></tr><tr><th>6</th><td>6</td><td>0.24</td><td>Very Good</td><td>J</td><td>VVS2</td><td>62.8</td><td>57.0</td><td>336</td><td>3.94</td></tr><tr><th>7</th><td>7</td><td>0.24</td><td>Very Good</td><td>I</td><td>VVS1</td><td>62.3</td><td>57.0</td><td>336</td><td>3.95</td></tr><tr><th>8</th><td>8</td><td>0.26</td><td>Very Good</td><td>H</td><td>SI1</td><td>61.9</td><td>55.0</td><td>337</td><td>4.07</td></tr><tr><th>9</th><td>9</td><td>0.22</td><td>Fair</td><td>E</td><td>VS2</td><td>65.1</td><td>61.0</td><td>337</td><td>3.87</td></tr><tr><th>10</th><td>10</td><td>0.23</td><td>Very Good</td><td>H</td><td>VS1</td><td>59.4</td><td>61.0</td><td>338</td><td>4.0</td></tr><tr><th>11</th><td>11</td><td>0.3</td><td>Good</td><td>J</td><td>SI1</td><td>64.0</td><td>55.0</td><td>339</td><td>4.25</td></tr><tr><th>12</th><td>12</td><td>0.23</td><td>Ideal</td><td>J</td><td>VS1</td><td>62.8</td><td>56.0</td><td>340</td><td>3.93</td></tr><tr><th>13</th><td>13</td><td>0.22</td><td>Premium</td><td>F</td><td>SI1</td><td>60.4</td><td>61.0</td><td>342</td><td>3.88</td></tr><tr><th>14</th><td>14</td><td>0.31</td><td>Ideal</td><td>J</td><td>SI2</td><td>62.2</td><td>54.0</td><td>344</td><td>4.35</td></tr><tr><th>15</th><td>15</td><td>0.2</td><td>Premium</td><td>E</td><td>SI2</td><td>60.2</td><td>62.0</td><td>345</td><td>3.79</td></tr><tr><th>16</th><td>16</td><td>0.32</td><td>Premium</td><td>E</td><td>I1</td><td>60.9</td><td>58.0</td><td>345</td><td>4.38</td></tr><tr><th>17</th><td>17</td><td>0.3</td><td>Ideal</td><td>I</td><td>SI2</td><td>62.0</td><td>54.0</td><td>348</td><td>4.31</td></tr><tr><th>18</th><td>18</td><td>0.3</td><td>Good</td><td>J</td><td>SI1</td><td>63.4</td><td>54.0</td><td>351</td><td>4.23</td></tr><tr><th>19</th><td>19</td><td>0.3</td><td>Good</td><td>J</td><td>SI1</td><td>63.8</td><td>56.0</td><td>351</td><td>4.23</td></tr><tr><th>20</th><td>20</td><td>0.3</td><td>Very Good</td><td>J</td><td>SI1</td><td>62.7</td><td>59.0</td><td>351</td><td>4.21</td></tr><tr><th>21</th><td>21</td><td>0.3</td><td>Good</td><td>I</td><td>SI2</td><td>63.3</td><td>56.0</td><td>351</td><td>4.26</td></tr><tr><th>22</th><td>22</td><td>0.23</td><td>Very Good</td><td>E</td><td>VS2</td><td>63.8</td><td>55.0</td><td>352</td><td>3.85</td></tr><tr><th>23</th><td>23</td><td>0.23</td><td>Very Good</td><td>H</td><td>VS1</td><td>61.0</td><td>57.0</td><td>353</td><td>3.94</td></tr><tr><th>24</th><td>24</td><td>0.31</td><td>Very Good</td><td>J</td><td>SI1</td><td>59.4</td><td>62.0</td><td>353</td><td>4.39</td></tr><tr><th>25</th><td>25</td><td>0.31</td><td>Very Good</td><td>J</td><td>SI1</td><td>58.1</td><td>62.0</td><td>353</td><td>4.44</td></tr><tr><th>26</th><td>26</td><td>0.23</td><td>Very Good</td><td>G</td><td>VVS2</td><td>60.4</td><td>58.0</td><td>354</td><td>3.97</td></tr><tr><th>27</th><td>27</td><td>0.24</td><td>Premium</td><td>I</td><td>VS1</td><td>62.5</td><td>57.0</td><td>355</td><td>3.97</td></tr><tr><th>28</th><td>28</td><td>0.3</td><td>Very Good</td><td>J</td><td>VS2</td><td>62.2</td><td>57.0</td><td>357</td><td>4.28</td></tr><tr><th>29</th><td>29</td><td>0.23</td><td>Very Good</td><td>D</td><td>VS2</td><td>60.5</td><td>61.0</td><td>357</td><td>3.96</td></tr><tr><th>30</th><td>30</td><td>0.23</td><td>Very Good</td><td>F</td><td>VS1</td><td>60.9</td><td>57.0</td><td>357</td><td>3.96</td></tr><tr><th>&vellip;</th><td>&vellip;</td><td>&vellip;</td><td>&vellip;</td><td>&vellip;</td><td>&vellip;</td><td>&vellip;</td><td>&vellip;</td><td>&vellip;</td><td>&vellip;</td></tr></tbody></table></div>"
      ],
      "text/latex": [
       "\\begin{tabular}{r|cccccccccc}\n",
       "\t& Column1 & carat & cut & color & clarity & depth & table & price & x & \\\\\n",
       "\t\\hline\n",
       "\t& Int64 & Float64 & String15 & String1 & String7 & Float64 & Float64 & Int64 & Float64 & \\\\\n",
       "\t\\hline\n",
       "\t1 & 1 & 0.23 & Ideal & E & SI2 & 61.5 & 55.0 & 326 & 3.95 & $\\dots$ \\\\\n",
       "\t2 & 2 & 0.21 & Premium & E & SI1 & 59.8 & 61.0 & 326 & 3.89 & $\\dots$ \\\\\n",
       "\t3 & 3 & 0.23 & Good & E & VS1 & 56.9 & 65.0 & 327 & 4.05 & $\\dots$ \\\\\n",
       "\t4 & 4 & 0.29 & Premium & I & VS2 & 62.4 & 58.0 & 334 & 4.2 & $\\dots$ \\\\\n",
       "\t5 & 5 & 0.31 & Good & J & SI2 & 63.3 & 58.0 & 335 & 4.34 & $\\dots$ \\\\\n",
       "\t6 & 6 & 0.24 & Very Good & J & VVS2 & 62.8 & 57.0 & 336 & 3.94 & $\\dots$ \\\\\n",
       "\t7 & 7 & 0.24 & Very Good & I & VVS1 & 62.3 & 57.0 & 336 & 3.95 & $\\dots$ \\\\\n",
       "\t8 & 8 & 0.26 & Very Good & H & SI1 & 61.9 & 55.0 & 337 & 4.07 & $\\dots$ \\\\\n",
       "\t9 & 9 & 0.22 & Fair & E & VS2 & 65.1 & 61.0 & 337 & 3.87 & $\\dots$ \\\\\n",
       "\t10 & 10 & 0.23 & Very Good & H & VS1 & 59.4 & 61.0 & 338 & 4.0 & $\\dots$ \\\\\n",
       "\t11 & 11 & 0.3 & Good & J & SI1 & 64.0 & 55.0 & 339 & 4.25 & $\\dots$ \\\\\n",
       "\t12 & 12 & 0.23 & Ideal & J & VS1 & 62.8 & 56.0 & 340 & 3.93 & $\\dots$ \\\\\n",
       "\t13 & 13 & 0.22 & Premium & F & SI1 & 60.4 & 61.0 & 342 & 3.88 & $\\dots$ \\\\\n",
       "\t14 & 14 & 0.31 & Ideal & J & SI2 & 62.2 & 54.0 & 344 & 4.35 & $\\dots$ \\\\\n",
       "\t15 & 15 & 0.2 & Premium & E & SI2 & 60.2 & 62.0 & 345 & 3.79 & $\\dots$ \\\\\n",
       "\t16 & 16 & 0.32 & Premium & E & I1 & 60.9 & 58.0 & 345 & 4.38 & $\\dots$ \\\\\n",
       "\t17 & 17 & 0.3 & Ideal & I & SI2 & 62.0 & 54.0 & 348 & 4.31 & $\\dots$ \\\\\n",
       "\t18 & 18 & 0.3 & Good & J & SI1 & 63.4 & 54.0 & 351 & 4.23 & $\\dots$ \\\\\n",
       "\t19 & 19 & 0.3 & Good & J & SI1 & 63.8 & 56.0 & 351 & 4.23 & $\\dots$ \\\\\n",
       "\t20 & 20 & 0.3 & Very Good & J & SI1 & 62.7 & 59.0 & 351 & 4.21 & $\\dots$ \\\\\n",
       "\t21 & 21 & 0.3 & Good & I & SI2 & 63.3 & 56.0 & 351 & 4.26 & $\\dots$ \\\\\n",
       "\t22 & 22 & 0.23 & Very Good & E & VS2 & 63.8 & 55.0 & 352 & 3.85 & $\\dots$ \\\\\n",
       "\t23 & 23 & 0.23 & Very Good & H & VS1 & 61.0 & 57.0 & 353 & 3.94 & $\\dots$ \\\\\n",
       "\t24 & 24 & 0.31 & Very Good & J & SI1 & 59.4 & 62.0 & 353 & 4.39 & $\\dots$ \\\\\n",
       "\t25 & 25 & 0.31 & Very Good & J & SI1 & 58.1 & 62.0 & 353 & 4.44 & $\\dots$ \\\\\n",
       "\t26 & 26 & 0.23 & Very Good & G & VVS2 & 60.4 & 58.0 & 354 & 3.97 & $\\dots$ \\\\\n",
       "\t27 & 27 & 0.24 & Premium & I & VS1 & 62.5 & 57.0 & 355 & 3.97 & $\\dots$ \\\\\n",
       "\t28 & 28 & 0.3 & Very Good & J & VS2 & 62.2 & 57.0 & 357 & 4.28 & $\\dots$ \\\\\n",
       "\t29 & 29 & 0.23 & Very Good & D & VS2 & 60.5 & 61.0 & 357 & 3.96 & $\\dots$ \\\\\n",
       "\t30 & 30 & 0.23 & Very Good & F & VS1 & 60.9 & 57.0 & 357 & 3.96 & $\\dots$ \\\\\n",
       "\t$\\dots$ & $\\dots$ & $\\dots$ & $\\dots$ & $\\dots$ & $\\dots$ & $\\dots$ & $\\dots$ & $\\dots$ & $\\dots$ &  \\\\\n",
       "\\end{tabular}\n"
      ],
      "text/plain": [
       "\u001b[1m53940×11 DataFrame\u001b[0m\n",
       "\u001b[1m   Row \u001b[0m│\u001b[1m Column1 \u001b[0m\u001b[1m carat   \u001b[0m\u001b[1m cut       \u001b[0m\u001b[1m color   \u001b[0m\u001b[1m clarity \u001b[0m\u001b[1m depth   \u001b[0m\u001b[1m table   \u001b[0m\u001b[1m pric\u001b[0m ⋯\n",
       "\u001b[1m       \u001b[0m│\u001b[90m Int64   \u001b[0m\u001b[90m Float64 \u001b[0m\u001b[90m String15  \u001b[0m\u001b[90m String1 \u001b[0m\u001b[90m String7 \u001b[0m\u001b[90m Float64 \u001b[0m\u001b[90m Float64 \u001b[0m\u001b[90m Int6\u001b[0m ⋯\n",
       "───────┼────────────────────────────────────────────────────────────────────────\n",
       "     1 │       1     0.23  Ideal      E        SI2         61.5     55.0    32 ⋯\n",
       "     2 │       2     0.21  Premium    E        SI1         59.8     61.0    32\n",
       "     3 │       3     0.23  Good       E        VS1         56.9     65.0    32\n",
       "     4 │       4     0.29  Premium    I        VS2         62.4     58.0    33\n",
       "     5 │       5     0.31  Good       J        SI2         63.3     58.0    33 ⋯\n",
       "     6 │       6     0.24  Very Good  J        VVS2        62.8     57.0    33\n",
       "     7 │       7     0.24  Very Good  I        VVS1        62.3     57.0    33\n",
       "     8 │       8     0.26  Very Good  H        SI1         61.9     55.0    33\n",
       "     9 │       9     0.22  Fair       E        VS2         65.1     61.0    33 ⋯\n",
       "    10 │      10     0.23  Very Good  H        VS1         59.4     61.0    33\n",
       "    11 │      11     0.3   Good       J        SI1         64.0     55.0    33\n",
       "   ⋮   │    ⋮        ⋮         ⋮         ⋮        ⋮        ⋮        ⋮       ⋮  ⋱\n",
       " 53931 │   53931     0.71  Premium    E        SI1         60.5     55.0   275\n",
       " 53932 │   53932     0.71  Premium    F        SI1         59.8     62.0   275 ⋯\n",
       " 53933 │   53933     0.7   Very Good  E        VS2         60.5     59.0   275\n",
       " 53934 │   53934     0.7   Very Good  E        VS2         61.2     59.0   275\n",
       " 53935 │   53935     0.72  Premium    D        SI1         62.7     59.0   275\n",
       " 53936 │   53936     0.72  Ideal      D        SI1         60.8     57.0   275 ⋯\n",
       " 53937 │   53937     0.72  Good       D        SI1         63.1     55.0   275\n",
       " 53938 │   53938     0.7   Very Good  D        SI1         62.8     60.0   275\n",
       " 53939 │   53939     0.86  Premium    H        SI2         61.0     58.0   275\n",
       " 53940 │   53940     0.75  Ideal      D        SI2         62.2     55.0   275 ⋯\n",
       "\u001b[36m                                                4 columns and 53919 rows omitted\u001b[0m"
      ]
     },
     "execution_count": 4,
     "metadata": {},
     "output_type": "execute_result"
    }
   ],
   "source": [
    "# Loading csv file as dataframe.\n",
    "\n",
    "df = DataFrame(CSV.File(\"diamonds.csv\"))"
   ]
  },
  {
   "cell_type": "code",
   "execution_count": 5,
   "metadata": {},
   "outputs": [
    {
     "data": {
      "text/html": [
       "<div class=\"data-frame\"><p>11 rows × 7 columns</p><table class=\"data-frame\"><thead><tr><th></th><th>variable</th><th>mean</th><th>min</th><th>median</th><th>max</th><th>nmissing</th><th>eltype</th></tr><tr><th></th><th title=\"Symbol\">Symbol</th><th title=\"Union{Nothing, Float64}\">Union…</th><th title=\"Any\">Any</th><th title=\"Union{Nothing, Float64}\">Union…</th><th title=\"Any\">Any</th><th title=\"Int64\">Int64</th><th title=\"DataType\">DataType</th></tr></thead><tbody><tr><th>1</th><td>Column1</td><td>26970.5</td><td>1</td><td>26970.5</td><td>53940</td><td>0</td><td>Int64</td></tr><tr><th>2</th><td>carat</td><td>0.79794</td><td>0.2</td><td>0.7</td><td>5.01</td><td>0</td><td>Float64</td></tr><tr><th>3</th><td>cut</td><td></td><td>Fair</td><td></td><td>Very Good</td><td>0</td><td>String15</td></tr><tr><th>4</th><td>color</td><td></td><td>D</td><td></td><td>J</td><td>0</td><td>String1</td></tr><tr><th>5</th><td>clarity</td><td></td><td>I1</td><td></td><td>VVS2</td><td>0</td><td>String7</td></tr><tr><th>6</th><td>depth</td><td>61.7494</td><td>43.0</td><td>61.8</td><td>79.0</td><td>0</td><td>Float64</td></tr><tr><th>7</th><td>table</td><td>57.4572</td><td>43.0</td><td>57.0</td><td>95.0</td><td>0</td><td>Float64</td></tr><tr><th>8</th><td>price</td><td>3932.8</td><td>326</td><td>2401.0</td><td>18823</td><td>0</td><td>Int64</td></tr><tr><th>9</th><td>x</td><td>5.73116</td><td>0.0</td><td>5.7</td><td>10.74</td><td>0</td><td>Float64</td></tr><tr><th>10</th><td>y</td><td>5.73453</td><td>0.0</td><td>5.71</td><td>58.9</td><td>0</td><td>Float64</td></tr><tr><th>11</th><td>z</td><td>3.53873</td><td>0.0</td><td>3.53</td><td>31.8</td><td>0</td><td>Float64</td></tr></tbody></table></div>"
      ],
      "text/latex": [
       "\\begin{tabular}{r|ccccccc}\n",
       "\t& variable & mean & min & median & max & nmissing & eltype\\\\\n",
       "\t\\hline\n",
       "\t& Symbol & Union… & Any & Union… & Any & Int64 & DataType\\\\\n",
       "\t\\hline\n",
       "\t1 & Column1 & 26970.5 & 1 & 26970.5 & 53940 & 0 & Int64 \\\\\n",
       "\t2 & carat & 0.79794 & 0.2 & 0.7 & 5.01 & 0 & Float64 \\\\\n",
       "\t3 & cut &  & Fair &  & Very Good & 0 & String15 \\\\\n",
       "\t4 & color &  & D &  & J & 0 & String1 \\\\\n",
       "\t5 & clarity &  & I1 &  & VVS2 & 0 & String7 \\\\\n",
       "\t6 & depth & 61.7494 & 43.0 & 61.8 & 79.0 & 0 & Float64 \\\\\n",
       "\t7 & table & 57.4572 & 43.0 & 57.0 & 95.0 & 0 & Float64 \\\\\n",
       "\t8 & price & 3932.8 & 326 & 2401.0 & 18823 & 0 & Int64 \\\\\n",
       "\t9 & x & 5.73116 & 0.0 & 5.7 & 10.74 & 0 & Float64 \\\\\n",
       "\t10 & y & 5.73453 & 0.0 & 5.71 & 58.9 & 0 & Float64 \\\\\n",
       "\t11 & z & 3.53873 & 0.0 & 3.53 & 31.8 & 0 & Float64 \\\\\n",
       "\\end{tabular}\n"
      ],
      "text/plain": [
       "\u001b[1m11×7 DataFrame\u001b[0m\n",
       "\u001b[1m Row \u001b[0m│\u001b[1m variable \u001b[0m\u001b[1m mean    \u001b[0m\u001b[1m min  \u001b[0m\u001b[1m median  \u001b[0m\u001b[1m max       \u001b[0m\u001b[1m nmissing \u001b[0m\u001b[1m eltype   \u001b[0m\n",
       "\u001b[1m     \u001b[0m│\u001b[90m Symbol   \u001b[0m\u001b[90m Union…  \u001b[0m\u001b[90m Any  \u001b[0m\u001b[90m Union…  \u001b[0m\u001b[90m Any       \u001b[0m\u001b[90m Int64    \u001b[0m\u001b[90m DataType \u001b[0m\n",
       "─────┼─────────────────────────────────────────────────────────────────\n",
       "   1 │ Column1   26970.5  1     26970.5  53940             0  Int64\n",
       "   2 │ carat     0.79794  0.2   0.7      5.01              0  Float64\n",
       "   3 │ cut      \u001b[90m         \u001b[0m Fair \u001b[90m         \u001b[0m Very Good         0  String15\n",
       "   4 │ color    \u001b[90m         \u001b[0m D    \u001b[90m         \u001b[0m J                 0  String1\n",
       "   5 │ clarity  \u001b[90m         \u001b[0m I1   \u001b[90m         \u001b[0m VVS2              0  String7\n",
       "   6 │ depth     61.7494  43.0  61.8     79.0              0  Float64\n",
       "   7 │ table     57.4572  43.0  57.0     95.0              0  Float64\n",
       "   8 │ price     3932.8   326   2401.0   18823             0  Int64\n",
       "   9 │ x         5.73116  0.0   5.7      10.74             0  Float64\n",
       "  10 │ y         5.73453  0.0   5.71     58.9              0  Float64\n",
       "  11 │ z         3.53873  0.0   3.53     31.8              0  Float64"
      ]
     },
     "execution_count": 5,
     "metadata": {},
     "output_type": "execute_result"
    }
   ],
   "source": [
    "describe(df)"
   ]
  },
  {
   "cell_type": "code",
   "execution_count": 6,
   "metadata": {},
   "outputs": [
    {
     "data": {
      "text/html": [
       "<div class=\"data-frame\"><p>53,940 rows × 10 columns (omitted printing of 2 columns)</p><table class=\"data-frame\"><thead><tr><th></th><th>carat</th><th>cut</th><th>color</th><th>clarity</th><th>total_depth_percentage</th><th>table</th><th>price</th><th>length</th></tr><tr><th></th><th title=\"Float64\">Float64</th><th title=\"String15\">String15</th><th title=\"String1\">String1</th><th title=\"String7\">String7</th><th title=\"Float64\">Float64</th><th title=\"Float64\">Float64</th><th title=\"Int64\">Int64</th><th title=\"Float64\">Float64</th></tr></thead><tbody><tr><th>1</th><td>0.23</td><td>Ideal</td><td>E</td><td>SI2</td><td>61.5</td><td>55.0</td><td>326</td><td>3.95</td></tr><tr><th>2</th><td>0.21</td><td>Premium</td><td>E</td><td>SI1</td><td>59.8</td><td>61.0</td><td>326</td><td>3.89</td></tr><tr><th>3</th><td>0.23</td><td>Good</td><td>E</td><td>VS1</td><td>56.9</td><td>65.0</td><td>327</td><td>4.05</td></tr><tr><th>4</th><td>0.29</td><td>Premium</td><td>I</td><td>VS2</td><td>62.4</td><td>58.0</td><td>334</td><td>4.2</td></tr><tr><th>5</th><td>0.31</td><td>Good</td><td>J</td><td>SI2</td><td>63.3</td><td>58.0</td><td>335</td><td>4.34</td></tr><tr><th>6</th><td>0.24</td><td>Very Good</td><td>J</td><td>VVS2</td><td>62.8</td><td>57.0</td><td>336</td><td>3.94</td></tr><tr><th>7</th><td>0.24</td><td>Very Good</td><td>I</td><td>VVS1</td><td>62.3</td><td>57.0</td><td>336</td><td>3.95</td></tr><tr><th>8</th><td>0.26</td><td>Very Good</td><td>H</td><td>SI1</td><td>61.9</td><td>55.0</td><td>337</td><td>4.07</td></tr><tr><th>9</th><td>0.22</td><td>Fair</td><td>E</td><td>VS2</td><td>65.1</td><td>61.0</td><td>337</td><td>3.87</td></tr><tr><th>10</th><td>0.23</td><td>Very Good</td><td>H</td><td>VS1</td><td>59.4</td><td>61.0</td><td>338</td><td>4.0</td></tr><tr><th>11</th><td>0.3</td><td>Good</td><td>J</td><td>SI1</td><td>64.0</td><td>55.0</td><td>339</td><td>4.25</td></tr><tr><th>12</th><td>0.23</td><td>Ideal</td><td>J</td><td>VS1</td><td>62.8</td><td>56.0</td><td>340</td><td>3.93</td></tr><tr><th>13</th><td>0.22</td><td>Premium</td><td>F</td><td>SI1</td><td>60.4</td><td>61.0</td><td>342</td><td>3.88</td></tr><tr><th>14</th><td>0.31</td><td>Ideal</td><td>J</td><td>SI2</td><td>62.2</td><td>54.0</td><td>344</td><td>4.35</td></tr><tr><th>15</th><td>0.2</td><td>Premium</td><td>E</td><td>SI2</td><td>60.2</td><td>62.0</td><td>345</td><td>3.79</td></tr><tr><th>16</th><td>0.32</td><td>Premium</td><td>E</td><td>I1</td><td>60.9</td><td>58.0</td><td>345</td><td>4.38</td></tr><tr><th>17</th><td>0.3</td><td>Ideal</td><td>I</td><td>SI2</td><td>62.0</td><td>54.0</td><td>348</td><td>4.31</td></tr><tr><th>18</th><td>0.3</td><td>Good</td><td>J</td><td>SI1</td><td>63.4</td><td>54.0</td><td>351</td><td>4.23</td></tr><tr><th>19</th><td>0.3</td><td>Good</td><td>J</td><td>SI1</td><td>63.8</td><td>56.0</td><td>351</td><td>4.23</td></tr><tr><th>20</th><td>0.3</td><td>Very Good</td><td>J</td><td>SI1</td><td>62.7</td><td>59.0</td><td>351</td><td>4.21</td></tr><tr><th>21</th><td>0.3</td><td>Good</td><td>I</td><td>SI2</td><td>63.3</td><td>56.0</td><td>351</td><td>4.26</td></tr><tr><th>22</th><td>0.23</td><td>Very Good</td><td>E</td><td>VS2</td><td>63.8</td><td>55.0</td><td>352</td><td>3.85</td></tr><tr><th>23</th><td>0.23</td><td>Very Good</td><td>H</td><td>VS1</td><td>61.0</td><td>57.0</td><td>353</td><td>3.94</td></tr><tr><th>24</th><td>0.31</td><td>Very Good</td><td>J</td><td>SI1</td><td>59.4</td><td>62.0</td><td>353</td><td>4.39</td></tr><tr><th>25</th><td>0.31</td><td>Very Good</td><td>J</td><td>SI1</td><td>58.1</td><td>62.0</td><td>353</td><td>4.44</td></tr><tr><th>26</th><td>0.23</td><td>Very Good</td><td>G</td><td>VVS2</td><td>60.4</td><td>58.0</td><td>354</td><td>3.97</td></tr><tr><th>27</th><td>0.24</td><td>Premium</td><td>I</td><td>VS1</td><td>62.5</td><td>57.0</td><td>355</td><td>3.97</td></tr><tr><th>28</th><td>0.3</td><td>Very Good</td><td>J</td><td>VS2</td><td>62.2</td><td>57.0</td><td>357</td><td>4.28</td></tr><tr><th>29</th><td>0.23</td><td>Very Good</td><td>D</td><td>VS2</td><td>60.5</td><td>61.0</td><td>357</td><td>3.96</td></tr><tr><th>30</th><td>0.23</td><td>Very Good</td><td>F</td><td>VS1</td><td>60.9</td><td>57.0</td><td>357</td><td>3.96</td></tr><tr><th>&vellip;</th><td>&vellip;</td><td>&vellip;</td><td>&vellip;</td><td>&vellip;</td><td>&vellip;</td><td>&vellip;</td><td>&vellip;</td><td>&vellip;</td></tr></tbody></table></div>"
      ],
      "text/latex": [
       "\\begin{tabular}{r|ccccccccc}\n",
       "\t& carat & cut & color & clarity & total\\_depth\\_percentage & table & price & length & \\\\\n",
       "\t\\hline\n",
       "\t& Float64 & String15 & String1 & String7 & Float64 & Float64 & Int64 & Float64 & \\\\\n",
       "\t\\hline\n",
       "\t1 & 0.23 & Ideal & E & SI2 & 61.5 & 55.0 & 326 & 3.95 & $\\dots$ \\\\\n",
       "\t2 & 0.21 & Premium & E & SI1 & 59.8 & 61.0 & 326 & 3.89 & $\\dots$ \\\\\n",
       "\t3 & 0.23 & Good & E & VS1 & 56.9 & 65.0 & 327 & 4.05 & $\\dots$ \\\\\n",
       "\t4 & 0.29 & Premium & I & VS2 & 62.4 & 58.0 & 334 & 4.2 & $\\dots$ \\\\\n",
       "\t5 & 0.31 & Good & J & SI2 & 63.3 & 58.0 & 335 & 4.34 & $\\dots$ \\\\\n",
       "\t6 & 0.24 & Very Good & J & VVS2 & 62.8 & 57.0 & 336 & 3.94 & $\\dots$ \\\\\n",
       "\t7 & 0.24 & Very Good & I & VVS1 & 62.3 & 57.0 & 336 & 3.95 & $\\dots$ \\\\\n",
       "\t8 & 0.26 & Very Good & H & SI1 & 61.9 & 55.0 & 337 & 4.07 & $\\dots$ \\\\\n",
       "\t9 & 0.22 & Fair & E & VS2 & 65.1 & 61.0 & 337 & 3.87 & $\\dots$ \\\\\n",
       "\t10 & 0.23 & Very Good & H & VS1 & 59.4 & 61.0 & 338 & 4.0 & $\\dots$ \\\\\n",
       "\t11 & 0.3 & Good & J & SI1 & 64.0 & 55.0 & 339 & 4.25 & $\\dots$ \\\\\n",
       "\t12 & 0.23 & Ideal & J & VS1 & 62.8 & 56.0 & 340 & 3.93 & $\\dots$ \\\\\n",
       "\t13 & 0.22 & Premium & F & SI1 & 60.4 & 61.0 & 342 & 3.88 & $\\dots$ \\\\\n",
       "\t14 & 0.31 & Ideal & J & SI2 & 62.2 & 54.0 & 344 & 4.35 & $\\dots$ \\\\\n",
       "\t15 & 0.2 & Premium & E & SI2 & 60.2 & 62.0 & 345 & 3.79 & $\\dots$ \\\\\n",
       "\t16 & 0.32 & Premium & E & I1 & 60.9 & 58.0 & 345 & 4.38 & $\\dots$ \\\\\n",
       "\t17 & 0.3 & Ideal & I & SI2 & 62.0 & 54.0 & 348 & 4.31 & $\\dots$ \\\\\n",
       "\t18 & 0.3 & Good & J & SI1 & 63.4 & 54.0 & 351 & 4.23 & $\\dots$ \\\\\n",
       "\t19 & 0.3 & Good & J & SI1 & 63.8 & 56.0 & 351 & 4.23 & $\\dots$ \\\\\n",
       "\t20 & 0.3 & Very Good & J & SI1 & 62.7 & 59.0 & 351 & 4.21 & $\\dots$ \\\\\n",
       "\t21 & 0.3 & Good & I & SI2 & 63.3 & 56.0 & 351 & 4.26 & $\\dots$ \\\\\n",
       "\t22 & 0.23 & Very Good & E & VS2 & 63.8 & 55.0 & 352 & 3.85 & $\\dots$ \\\\\n",
       "\t23 & 0.23 & Very Good & H & VS1 & 61.0 & 57.0 & 353 & 3.94 & $\\dots$ \\\\\n",
       "\t24 & 0.31 & Very Good & J & SI1 & 59.4 & 62.0 & 353 & 4.39 & $\\dots$ \\\\\n",
       "\t25 & 0.31 & Very Good & J & SI1 & 58.1 & 62.0 & 353 & 4.44 & $\\dots$ \\\\\n",
       "\t26 & 0.23 & Very Good & G & VVS2 & 60.4 & 58.0 & 354 & 3.97 & $\\dots$ \\\\\n",
       "\t27 & 0.24 & Premium & I & VS1 & 62.5 & 57.0 & 355 & 3.97 & $\\dots$ \\\\\n",
       "\t28 & 0.3 & Very Good & J & VS2 & 62.2 & 57.0 & 357 & 4.28 & $\\dots$ \\\\\n",
       "\t29 & 0.23 & Very Good & D & VS2 & 60.5 & 61.0 & 357 & 3.96 & $\\dots$ \\\\\n",
       "\t30 & 0.23 & Very Good & F & VS1 & 60.9 & 57.0 & 357 & 3.96 & $\\dots$ \\\\\n",
       "\t$\\dots$ & $\\dots$ & $\\dots$ & $\\dots$ & $\\dots$ & $\\dots$ & $\\dots$ & $\\dots$ & $\\dots$ &  \\\\\n",
       "\\end{tabular}\n"
      ],
      "text/plain": [
       "\u001b[1m53940×10 DataFrame\u001b[0m\n",
       "\u001b[1m   Row \u001b[0m│\u001b[1m carat   \u001b[0m\u001b[1m cut       \u001b[0m\u001b[1m color   \u001b[0m\u001b[1m clarity \u001b[0m\u001b[1m total_depth_percentage \u001b[0m\u001b[1m table  \u001b[0m ⋯\n",
       "\u001b[1m       \u001b[0m│\u001b[90m Float64 \u001b[0m\u001b[90m String15  \u001b[0m\u001b[90m String1 \u001b[0m\u001b[90m String7 \u001b[0m\u001b[90m Float64                \u001b[0m\u001b[90m Float64\u001b[0m ⋯\n",
       "───────┼────────────────────────────────────────────────────────────────────────\n",
       "     1 │    0.23  Ideal      E        SI2                        61.5     55.0 ⋯\n",
       "     2 │    0.21  Premium    E        SI1                        59.8     61.0\n",
       "     3 │    0.23  Good       E        VS1                        56.9     65.0\n",
       "     4 │    0.29  Premium    I        VS2                        62.4     58.0\n",
       "     5 │    0.31  Good       J        SI2                        63.3     58.0 ⋯\n",
       "     6 │    0.24  Very Good  J        VVS2                       62.8     57.0\n",
       "     7 │    0.24  Very Good  I        VVS1                       62.3     57.0\n",
       "     8 │    0.26  Very Good  H        SI1                        61.9     55.0\n",
       "     9 │    0.22  Fair       E        VS2                        65.1     61.0 ⋯\n",
       "    10 │    0.23  Very Good  H        VS1                        59.4     61.0\n",
       "    11 │    0.3   Good       J        SI1                        64.0     55.0\n",
       "   ⋮   │    ⋮         ⋮         ⋮        ⋮               ⋮                ⋮    ⋱\n",
       " 53931 │    0.71  Premium    E        SI1                        60.5     55.0\n",
       " 53932 │    0.71  Premium    F        SI1                        59.8     62.0 ⋯\n",
       " 53933 │    0.7   Very Good  E        VS2                        60.5     59.0\n",
       " 53934 │    0.7   Very Good  E        VS2                        61.2     59.0\n",
       " 53935 │    0.72  Premium    D        SI1                        62.7     59.0\n",
       " 53936 │    0.72  Ideal      D        SI1                        60.8     57.0 ⋯\n",
       " 53937 │    0.72  Good       D        SI1                        63.1     55.0\n",
       " 53938 │    0.7   Very Good  D        SI1                        62.8     60.0\n",
       " 53939 │    0.86  Premium    H        SI2                        61.0     58.0\n",
       " 53940 │    0.75  Ideal      D        SI2                        62.2     55.0 ⋯\n",
       "\u001b[36m                                                4 columns and 53919 rows omitted\u001b[0m"
      ]
     },
     "execution_count": 6,
     "metadata": {},
     "output_type": "execute_result"
    }
   ],
   "source": [
    "# As Column1 has the same indices as dataframe indices, we delete Column1.\n",
    "df_filtered = df[!,names(df)[names(df) .!= \"Column1\"]]\n",
    "\n",
    "# Rename of some columns in order to give more information about what contains each feature.\n",
    "rename!(df_filtered, Dict(:depth => :total_depth_percentage, :x => :length, :y => :width, :z => :depth))"
   ]
  },
  {
   "cell_type": "code",
   "execution_count": 7,
   "metadata": {},
   "outputs": [
    {
     "name": "stdout",
     "output_type": "stream",
     "text": [
      "Categorical features: [:cut, :color, :clarity]\n",
      "Numerical features: [:carat, :total_depth_percentage, :table, :price, :length, :width, :depth]\n"
     ]
    }
   ],
   "source": [
    "# Getting pointers of categorical columns and numerical columns.\n",
    "\n",
    "categorical_columns, numerical_columns = getCategoricalNumericalFeatures(df_filtered)\n",
    "\n",
    "println(\"Categorical features: $(categorical_columns)\")\n",
    "println(\"Numerical features: $(numerical_columns)\")"
   ]
  },
  {
   "cell_type": "code",
   "execution_count": 8,
   "metadata": {},
   "outputs": [
    {
     "name": "stdout",
     "output_type": "stream",
     "text": [
      "Ceros for column total_depth_percentage: 0 over a total of 53940\n",
      "Ceros for column table: 0 over a total of 53940\n",
      "Ceros for column price: 0 over a total of 53940\n",
      "Ceros for column carat: 0 over a total of 53940\n",
      "Ceros for column depth: 20 over a total of 53940\n",
      "Ceros for column length: 8 over a total of 53940\n",
      "Ceros for column width: 7 over a total of 53940\n"
     ]
    }
   ],
   "source": [
    "# Checking if there are numerical features with ceros when they shouldn't. \n",
    "\n",
    "zerosPerColumn = getNumberOfZerosPerColumn(df_filtered, numerical_columns)\n",
    "\n",
    "for column in keys(zerosPerColumn)    \n",
    "    numberOfZeros, lengthOfColumn = zerosPerColumn[column]\n",
    "    println(\"Ceros for column $(column): $(numberOfZeros) over a total of $(lengthOfColumn)\")\n",
    "end"
   ]
  },
  {
   "cell_type": "code",
   "execution_count": 9,
   "metadata": {},
   "outputs": [
    {
     "data": {
      "text/html": [
       "<div class=\"data-frame\"><p>53,920 rows × 10 columns (omitted printing of 2 columns)</p><table class=\"data-frame\"><thead><tr><th></th><th>carat</th><th>cut</th><th>color</th><th>clarity</th><th>total_depth_percentage</th><th>table</th><th>price</th><th>length</th></tr><tr><th></th><th title=\"Float64\">Float64</th><th title=\"String15\">String15</th><th title=\"String1\">String1</th><th title=\"String7\">String7</th><th title=\"Float64\">Float64</th><th title=\"Float64\">Float64</th><th title=\"Int64\">Int64</th><th title=\"Float64\">Float64</th></tr></thead><tbody><tr><th>1</th><td>0.23</td><td>Ideal</td><td>E</td><td>SI2</td><td>61.5</td><td>55.0</td><td>326</td><td>3.95</td></tr><tr><th>2</th><td>0.21</td><td>Premium</td><td>E</td><td>SI1</td><td>59.8</td><td>61.0</td><td>326</td><td>3.89</td></tr><tr><th>3</th><td>0.23</td><td>Good</td><td>E</td><td>VS1</td><td>56.9</td><td>65.0</td><td>327</td><td>4.05</td></tr><tr><th>4</th><td>0.29</td><td>Premium</td><td>I</td><td>VS2</td><td>62.4</td><td>58.0</td><td>334</td><td>4.2</td></tr><tr><th>5</th><td>0.31</td><td>Good</td><td>J</td><td>SI2</td><td>63.3</td><td>58.0</td><td>335</td><td>4.34</td></tr><tr><th>6</th><td>0.24</td><td>Very Good</td><td>J</td><td>VVS2</td><td>62.8</td><td>57.0</td><td>336</td><td>3.94</td></tr><tr><th>7</th><td>0.24</td><td>Very Good</td><td>I</td><td>VVS1</td><td>62.3</td><td>57.0</td><td>336</td><td>3.95</td></tr><tr><th>8</th><td>0.26</td><td>Very Good</td><td>H</td><td>SI1</td><td>61.9</td><td>55.0</td><td>337</td><td>4.07</td></tr><tr><th>9</th><td>0.22</td><td>Fair</td><td>E</td><td>VS2</td><td>65.1</td><td>61.0</td><td>337</td><td>3.87</td></tr><tr><th>10</th><td>0.23</td><td>Very Good</td><td>H</td><td>VS1</td><td>59.4</td><td>61.0</td><td>338</td><td>4.0</td></tr><tr><th>11</th><td>0.3</td><td>Good</td><td>J</td><td>SI1</td><td>64.0</td><td>55.0</td><td>339</td><td>4.25</td></tr><tr><th>12</th><td>0.23</td><td>Ideal</td><td>J</td><td>VS1</td><td>62.8</td><td>56.0</td><td>340</td><td>3.93</td></tr><tr><th>13</th><td>0.22</td><td>Premium</td><td>F</td><td>SI1</td><td>60.4</td><td>61.0</td><td>342</td><td>3.88</td></tr><tr><th>14</th><td>0.31</td><td>Ideal</td><td>J</td><td>SI2</td><td>62.2</td><td>54.0</td><td>344</td><td>4.35</td></tr><tr><th>15</th><td>0.2</td><td>Premium</td><td>E</td><td>SI2</td><td>60.2</td><td>62.0</td><td>345</td><td>3.79</td></tr><tr><th>16</th><td>0.32</td><td>Premium</td><td>E</td><td>I1</td><td>60.9</td><td>58.0</td><td>345</td><td>4.38</td></tr><tr><th>17</th><td>0.3</td><td>Ideal</td><td>I</td><td>SI2</td><td>62.0</td><td>54.0</td><td>348</td><td>4.31</td></tr><tr><th>18</th><td>0.3</td><td>Good</td><td>J</td><td>SI1</td><td>63.4</td><td>54.0</td><td>351</td><td>4.23</td></tr><tr><th>19</th><td>0.3</td><td>Good</td><td>J</td><td>SI1</td><td>63.8</td><td>56.0</td><td>351</td><td>4.23</td></tr><tr><th>20</th><td>0.3</td><td>Very Good</td><td>J</td><td>SI1</td><td>62.7</td><td>59.0</td><td>351</td><td>4.21</td></tr><tr><th>21</th><td>0.3</td><td>Good</td><td>I</td><td>SI2</td><td>63.3</td><td>56.0</td><td>351</td><td>4.26</td></tr><tr><th>22</th><td>0.23</td><td>Very Good</td><td>E</td><td>VS2</td><td>63.8</td><td>55.0</td><td>352</td><td>3.85</td></tr><tr><th>23</th><td>0.23</td><td>Very Good</td><td>H</td><td>VS1</td><td>61.0</td><td>57.0</td><td>353</td><td>3.94</td></tr><tr><th>24</th><td>0.31</td><td>Very Good</td><td>J</td><td>SI1</td><td>59.4</td><td>62.0</td><td>353</td><td>4.39</td></tr><tr><th>25</th><td>0.31</td><td>Very Good</td><td>J</td><td>SI1</td><td>58.1</td><td>62.0</td><td>353</td><td>4.44</td></tr><tr><th>26</th><td>0.23</td><td>Very Good</td><td>G</td><td>VVS2</td><td>60.4</td><td>58.0</td><td>354</td><td>3.97</td></tr><tr><th>27</th><td>0.24</td><td>Premium</td><td>I</td><td>VS1</td><td>62.5</td><td>57.0</td><td>355</td><td>3.97</td></tr><tr><th>28</th><td>0.3</td><td>Very Good</td><td>J</td><td>VS2</td><td>62.2</td><td>57.0</td><td>357</td><td>4.28</td></tr><tr><th>29</th><td>0.23</td><td>Very Good</td><td>D</td><td>VS2</td><td>60.5</td><td>61.0</td><td>357</td><td>3.96</td></tr><tr><th>30</th><td>0.23</td><td>Very Good</td><td>F</td><td>VS1</td><td>60.9</td><td>57.0</td><td>357</td><td>3.96</td></tr><tr><th>&vellip;</th><td>&vellip;</td><td>&vellip;</td><td>&vellip;</td><td>&vellip;</td><td>&vellip;</td><td>&vellip;</td><td>&vellip;</td><td>&vellip;</td></tr></tbody></table></div>"
      ],
      "text/latex": [
       "\\begin{tabular}{r|ccccccccc}\n",
       "\t& carat & cut & color & clarity & total\\_depth\\_percentage & table & price & length & \\\\\n",
       "\t\\hline\n",
       "\t& Float64 & String15 & String1 & String7 & Float64 & Float64 & Int64 & Float64 & \\\\\n",
       "\t\\hline\n",
       "\t1 & 0.23 & Ideal & E & SI2 & 61.5 & 55.0 & 326 & 3.95 & $\\dots$ \\\\\n",
       "\t2 & 0.21 & Premium & E & SI1 & 59.8 & 61.0 & 326 & 3.89 & $\\dots$ \\\\\n",
       "\t3 & 0.23 & Good & E & VS1 & 56.9 & 65.0 & 327 & 4.05 & $\\dots$ \\\\\n",
       "\t4 & 0.29 & Premium & I & VS2 & 62.4 & 58.0 & 334 & 4.2 & $\\dots$ \\\\\n",
       "\t5 & 0.31 & Good & J & SI2 & 63.3 & 58.0 & 335 & 4.34 & $\\dots$ \\\\\n",
       "\t6 & 0.24 & Very Good & J & VVS2 & 62.8 & 57.0 & 336 & 3.94 & $\\dots$ \\\\\n",
       "\t7 & 0.24 & Very Good & I & VVS1 & 62.3 & 57.0 & 336 & 3.95 & $\\dots$ \\\\\n",
       "\t8 & 0.26 & Very Good & H & SI1 & 61.9 & 55.0 & 337 & 4.07 & $\\dots$ \\\\\n",
       "\t9 & 0.22 & Fair & E & VS2 & 65.1 & 61.0 & 337 & 3.87 & $\\dots$ \\\\\n",
       "\t10 & 0.23 & Very Good & H & VS1 & 59.4 & 61.0 & 338 & 4.0 & $\\dots$ \\\\\n",
       "\t11 & 0.3 & Good & J & SI1 & 64.0 & 55.0 & 339 & 4.25 & $\\dots$ \\\\\n",
       "\t12 & 0.23 & Ideal & J & VS1 & 62.8 & 56.0 & 340 & 3.93 & $\\dots$ \\\\\n",
       "\t13 & 0.22 & Premium & F & SI1 & 60.4 & 61.0 & 342 & 3.88 & $\\dots$ \\\\\n",
       "\t14 & 0.31 & Ideal & J & SI2 & 62.2 & 54.0 & 344 & 4.35 & $\\dots$ \\\\\n",
       "\t15 & 0.2 & Premium & E & SI2 & 60.2 & 62.0 & 345 & 3.79 & $\\dots$ \\\\\n",
       "\t16 & 0.32 & Premium & E & I1 & 60.9 & 58.0 & 345 & 4.38 & $\\dots$ \\\\\n",
       "\t17 & 0.3 & Ideal & I & SI2 & 62.0 & 54.0 & 348 & 4.31 & $\\dots$ \\\\\n",
       "\t18 & 0.3 & Good & J & SI1 & 63.4 & 54.0 & 351 & 4.23 & $\\dots$ \\\\\n",
       "\t19 & 0.3 & Good & J & SI1 & 63.8 & 56.0 & 351 & 4.23 & $\\dots$ \\\\\n",
       "\t20 & 0.3 & Very Good & J & SI1 & 62.7 & 59.0 & 351 & 4.21 & $\\dots$ \\\\\n",
       "\t21 & 0.3 & Good & I & SI2 & 63.3 & 56.0 & 351 & 4.26 & $\\dots$ \\\\\n",
       "\t22 & 0.23 & Very Good & E & VS2 & 63.8 & 55.0 & 352 & 3.85 & $\\dots$ \\\\\n",
       "\t23 & 0.23 & Very Good & H & VS1 & 61.0 & 57.0 & 353 & 3.94 & $\\dots$ \\\\\n",
       "\t24 & 0.31 & Very Good & J & SI1 & 59.4 & 62.0 & 353 & 4.39 & $\\dots$ \\\\\n",
       "\t25 & 0.31 & Very Good & J & SI1 & 58.1 & 62.0 & 353 & 4.44 & $\\dots$ \\\\\n",
       "\t26 & 0.23 & Very Good & G & VVS2 & 60.4 & 58.0 & 354 & 3.97 & $\\dots$ \\\\\n",
       "\t27 & 0.24 & Premium & I & VS1 & 62.5 & 57.0 & 355 & 3.97 & $\\dots$ \\\\\n",
       "\t28 & 0.3 & Very Good & J & VS2 & 62.2 & 57.0 & 357 & 4.28 & $\\dots$ \\\\\n",
       "\t29 & 0.23 & Very Good & D & VS2 & 60.5 & 61.0 & 357 & 3.96 & $\\dots$ \\\\\n",
       "\t30 & 0.23 & Very Good & F & VS1 & 60.9 & 57.0 & 357 & 3.96 & $\\dots$ \\\\\n",
       "\t$\\dots$ & $\\dots$ & $\\dots$ & $\\dots$ & $\\dots$ & $\\dots$ & $\\dots$ & $\\dots$ & $\\dots$ &  \\\\\n",
       "\\end{tabular}\n"
      ],
      "text/plain": [
       "\u001b[1m53920×10 DataFrame\u001b[0m\n",
       "\u001b[1m   Row \u001b[0m│\u001b[1m carat   \u001b[0m\u001b[1m cut       \u001b[0m\u001b[1m color   \u001b[0m\u001b[1m clarity \u001b[0m\u001b[1m total_depth_percentage \u001b[0m\u001b[1m table  \u001b[0m ⋯\n",
       "\u001b[1m       \u001b[0m│\u001b[90m Float64 \u001b[0m\u001b[90m String15  \u001b[0m\u001b[90m String1 \u001b[0m\u001b[90m String7 \u001b[0m\u001b[90m Float64                \u001b[0m\u001b[90m Float64\u001b[0m ⋯\n",
       "───────┼────────────────────────────────────────────────────────────────────────\n",
       "     1 │    0.23  Ideal      E        SI2                        61.5     55.0 ⋯\n",
       "     2 │    0.21  Premium    E        SI1                        59.8     61.0\n",
       "     3 │    0.23  Good       E        VS1                        56.9     65.0\n",
       "     4 │    0.29  Premium    I        VS2                        62.4     58.0\n",
       "     5 │    0.31  Good       J        SI2                        63.3     58.0 ⋯\n",
       "     6 │    0.24  Very Good  J        VVS2                       62.8     57.0\n",
       "     7 │    0.24  Very Good  I        VVS1                       62.3     57.0\n",
       "     8 │    0.26  Very Good  H        SI1                        61.9     55.0\n",
       "     9 │    0.22  Fair       E        VS2                        65.1     61.0 ⋯\n",
       "    10 │    0.23  Very Good  H        VS1                        59.4     61.0\n",
       "    11 │    0.3   Good       J        SI1                        64.0     55.0\n",
       "   ⋮   │    ⋮         ⋮         ⋮        ⋮               ⋮                ⋮    ⋱\n",
       " 53911 │    0.71  Premium    E        SI1                        60.5     55.0\n",
       " 53912 │    0.71  Premium    F        SI1                        59.8     62.0 ⋯\n",
       " 53913 │    0.7   Very Good  E        VS2                        60.5     59.0\n",
       " 53914 │    0.7   Very Good  E        VS2                        61.2     59.0\n",
       " 53915 │    0.72  Premium    D        SI1                        62.7     59.0\n",
       " 53916 │    0.72  Ideal      D        SI1                        60.8     57.0 ⋯\n",
       " 53917 │    0.72  Good       D        SI1                        63.1     55.0\n",
       " 53918 │    0.7   Very Good  D        SI1                        62.8     60.0\n",
       " 53919 │    0.86  Premium    H        SI2                        61.0     58.0\n",
       " 53920 │    0.75  Ideal      D        SI2                        62.2     55.0 ⋯\n",
       "\u001b[36m                                                4 columns and 53899 rows omitted\u001b[0m"
      ]
     },
     "execution_count": 9,
     "metadata": {},
     "output_type": "execute_result"
    }
   ],
   "source": [
    "# Deleting rows with zeros, as they are an small number over the size of the dataset .\n",
    "\n",
    "df_filtered_without_zeros = deleteRowsWithCeros(df_filtered, numerical_columns)\n"
   ]
  },
  {
   "cell_type": "code",
   "execution_count": 10,
   "metadata": {},
   "outputs": [
    {
     "data": {
      "text/html": [
       "<div class=\"data-frame\"><p>10 rows × 7 columns</p><table class=\"data-frame\"><thead><tr><th></th><th>variable</th><th>mean</th><th>min</th><th>median</th><th>max</th><th>nmissing</th><th>eltype</th></tr><tr><th></th><th title=\"Symbol\">Symbol</th><th title=\"Union{Nothing, Float64}\">Union…</th><th title=\"Any\">Any</th><th title=\"Union{Nothing, Float64}\">Union…</th><th title=\"Any\">Any</th><th title=\"Int64\">Int64</th><th title=\"DataType\">DataType</th></tr></thead><tbody><tr><th>1</th><td>carat</td><td>0.797698</td><td>0.2</td><td>0.7</td><td>5.01</td><td>0</td><td>Float64</td></tr><tr><th>2</th><td>cut</td><td></td><td>Fair</td><td></td><td>Very Good</td><td>0</td><td>String15</td></tr><tr><th>3</th><td>color</td><td></td><td>D</td><td></td><td>J</td><td>0</td><td>String1</td></tr><tr><th>4</th><td>clarity</td><td></td><td>I1</td><td></td><td>VVS2</td><td>0</td><td>String7</td></tr><tr><th>5</th><td>total_depth_percentage</td><td>61.7495</td><td>43.0</td><td>61.8</td><td>79.0</td><td>0</td><td>Float64</td></tr><tr><th>6</th><td>table</td><td>57.4568</td><td>43.0</td><td>57.0</td><td>95.0</td><td>0</td><td>Float64</td></tr><tr><th>7</th><td>price</td><td>3930.99</td><td>326</td><td>2401.0</td><td>18823</td><td>0</td><td>Int64</td></tr><tr><th>8</th><td>length</td><td>5.73163</td><td>3.73</td><td>5.7</td><td>10.74</td><td>0</td><td>Float64</td></tr><tr><th>9</th><td>width</td><td>5.73489</td><td>3.68</td><td>5.71</td><td>58.9</td><td>0</td><td>Float64</td></tr><tr><th>10</th><td>depth</td><td>3.54005</td><td>1.07</td><td>3.53</td><td>31.8</td><td>0</td><td>Float64</td></tr></tbody></table></div>"
      ],
      "text/latex": [
       "\\begin{tabular}{r|ccccccc}\n",
       "\t& variable & mean & min & median & max & nmissing & eltype\\\\\n",
       "\t\\hline\n",
       "\t& Symbol & Union… & Any & Union… & Any & Int64 & DataType\\\\\n",
       "\t\\hline\n",
       "\t1 & carat & 0.797698 & 0.2 & 0.7 & 5.01 & 0 & Float64 \\\\\n",
       "\t2 & cut &  & Fair &  & Very Good & 0 & String15 \\\\\n",
       "\t3 & color &  & D &  & J & 0 & String1 \\\\\n",
       "\t4 & clarity &  & I1 &  & VVS2 & 0 & String7 \\\\\n",
       "\t5 & total\\_depth\\_percentage & 61.7495 & 43.0 & 61.8 & 79.0 & 0 & Float64 \\\\\n",
       "\t6 & table & 57.4568 & 43.0 & 57.0 & 95.0 & 0 & Float64 \\\\\n",
       "\t7 & price & 3930.99 & 326 & 2401.0 & 18823 & 0 & Int64 \\\\\n",
       "\t8 & length & 5.73163 & 3.73 & 5.7 & 10.74 & 0 & Float64 \\\\\n",
       "\t9 & width & 5.73489 & 3.68 & 5.71 & 58.9 & 0 & Float64 \\\\\n",
       "\t10 & depth & 3.54005 & 1.07 & 3.53 & 31.8 & 0 & Float64 \\\\\n",
       "\\end{tabular}\n"
      ],
      "text/plain": [
       "\u001b[1m10×7 DataFrame\u001b[0m\n",
       "\u001b[1m Row \u001b[0m│\u001b[1m variable               \u001b[0m\u001b[1m mean     \u001b[0m\u001b[1m min  \u001b[0m\u001b[1m median \u001b[0m\u001b[1m max       \u001b[0m\u001b[1m nmissing \u001b[0m\u001b[1m el\u001b[0m ⋯\n",
       "\u001b[1m     \u001b[0m│\u001b[90m Symbol                 \u001b[0m\u001b[90m Union…   \u001b[0m\u001b[90m Any  \u001b[0m\u001b[90m Union… \u001b[0m\u001b[90m Any       \u001b[0m\u001b[90m Int64    \u001b[0m\u001b[90m Da\u001b[0m ⋯\n",
       "─────┼──────────────────────────────────────────────────────────────────────────\n",
       "   1 │ carat                   0.797698  0.2   0.7     5.01              0  Fl ⋯\n",
       "   2 │ cut                    \u001b[90m          \u001b[0m Fair \u001b[90m        \u001b[0m Very Good         0  St\n",
       "   3 │ color                  \u001b[90m          \u001b[0m D    \u001b[90m        \u001b[0m J                 0  St\n",
       "   4 │ clarity                \u001b[90m          \u001b[0m I1   \u001b[90m        \u001b[0m VVS2              0  St\n",
       "   5 │ total_depth_percentage  61.7495   43.0  61.8    79.0              0  Fl ⋯\n",
       "   6 │ table                   57.4568   43.0  57.0    95.0              0  Fl\n",
       "   7 │ price                   3930.99   326   2401.0  18823             0  In\n",
       "   8 │ length                  5.73163   3.73  5.7     10.74             0  Fl\n",
       "   9 │ width                   5.73489   3.68  5.71    58.9              0  Fl ⋯\n",
       "  10 │ depth                   3.54005   1.07  3.53    31.8              0  Fl\n",
       "\u001b[36m                                                                1 column omitted\u001b[0m"
      ]
     },
     "execution_count": 10,
     "metadata": {},
     "output_type": "execute_result"
    }
   ],
   "source": [
    "describe(df_filtered_without_zeros)"
   ]
  },
  {
   "cell_type": "code",
   "execution_count": 11,
   "metadata": {},
   "outputs": [
    {
     "name": "stdout",
     "output_type": "stream",
     "text": [
      "Outliers for column carat: 1883 over 53920\n",
      "Extreme-outliers for column carat: 40 over 53920\n",
      "\n",
      "Outliers for column total_depth_percentage: 2543 over 53920\n",
      "Extreme-outliers for column total_depth_percentage: 278 over 53920\n",
      "\n",
      "Outliers for column table: 604 over 53920\n",
      "Extreme-outliers for column table: 28 over 53920\n",
      "\n",
      "Outliers for column price: 3532 over 53920\n",
      "Extreme-outliers for column price: 121 over 53920\n",
      "\n",
      "Outliers for column length: 24 over 53920\n",
      "Extreme-outliers for column length: 0 over 53920\n",
      "\n",
      "Outliers for column width: 22 over 53920\n",
      "Extreme-outliers for column width: 2 over 53920\n",
      "\n",
      "Outliers for column depth: 29 over 53920\n",
      "Extreme-outliers for column depth: 2 over 53920\n",
      "\n",
      "Rows to delete for extreme outliers 450\n",
      "Rows to delete for extreme outliers 6396\n",
      "Rows left 47524\n"
     ]
    }
   ],
   "source": [
    "for column in numerical_columns\n",
    "\n",
    "    column_data = df_filtered_without_zeros[!,column]\n",
    "\n",
    "    (outliers_indices, extreme_outliers_indices) = getBoundariesIndices(column_data)\n",
    "\n",
    "    println(\"Outliers for column $(column): $(length(column_data[outliers_indices])) over $(length(column_data))\")\n",
    "    println(\"Extreme-outliers for column $(column): $(length(column_data[extreme_outliers_indices])) over $(length(column_data))\\n\")\n",
    "end\n",
    "\n",
    "numberOfOutliers, numberOfExtremeOutliers = getNumberOfOutliers(df_filtered_without_zeros, numerical_columns)\n",
    "\n",
    "println(\"Rows to delete for extreme outliers $(numberOfExtremeOutliers)\")\n",
    "println(\"Rows to delete for extreme outliers $(numberOfOutliers)\")\n",
    "\n",
    "df_filtered_without_outliers = deleteOutliers(df_filtered_without_zeros, numerical_columns, deleteOnlyExtremeOutliers=false)\n",
    "\n",
    "println(\"Rows left $(size(df_filtered_without_outliers, 1))\")"
   ]
  },
  {
   "cell_type": "code",
   "execution_count": 12,
   "metadata": {},
   "outputs": [
    {
     "name": "stdout",
     "output_type": "stream",
     "text": [
      "Number of duplicated entries: 112\n"
     ]
    },
    {
     "data": {
      "text/html": [
       "<div class=\"data-frame\"><p>47,412 rows × 10 columns (omitted printing of 2 columns)</p><table class=\"data-frame\"><thead><tr><th></th><th>carat</th><th>cut</th><th>color</th><th>clarity</th><th>total_depth_percentage</th><th>table</th><th>price</th><th>length</th></tr><tr><th></th><th title=\"Float64\">Float64</th><th title=\"String15\">String15</th><th title=\"String1\">String1</th><th title=\"String7\">String7</th><th title=\"Float64\">Float64</th><th title=\"Float64\">Float64</th><th title=\"Int64\">Int64</th><th title=\"Float64\">Float64</th></tr></thead><tbody><tr><th>1</th><td>0.23</td><td>Ideal</td><td>E</td><td>SI2</td><td>61.5</td><td>55.0</td><td>326</td><td>3.95</td></tr><tr><th>2</th><td>0.21</td><td>Premium</td><td>E</td><td>SI1</td><td>59.8</td><td>61.0</td><td>326</td><td>3.89</td></tr><tr><th>3</th><td>0.29</td><td>Premium</td><td>I</td><td>VS2</td><td>62.4</td><td>58.0</td><td>334</td><td>4.2</td></tr><tr><th>4</th><td>0.31</td><td>Good</td><td>J</td><td>SI2</td><td>63.3</td><td>58.0</td><td>335</td><td>4.34</td></tr><tr><th>5</th><td>0.24</td><td>Very Good</td><td>J</td><td>VVS2</td><td>62.8</td><td>57.0</td><td>336</td><td>3.94</td></tr><tr><th>6</th><td>0.24</td><td>Very Good</td><td>I</td><td>VVS1</td><td>62.3</td><td>57.0</td><td>336</td><td>3.95</td></tr><tr><th>7</th><td>0.26</td><td>Very Good</td><td>H</td><td>SI1</td><td>61.9</td><td>55.0</td><td>337</td><td>4.07</td></tr><tr><th>8</th><td>0.23</td><td>Very Good</td><td>H</td><td>VS1</td><td>59.4</td><td>61.0</td><td>338</td><td>4.0</td></tr><tr><th>9</th><td>0.3</td><td>Good</td><td>J</td><td>SI1</td><td>64.0</td><td>55.0</td><td>339</td><td>4.25</td></tr><tr><th>10</th><td>0.23</td><td>Ideal</td><td>J</td><td>VS1</td><td>62.8</td><td>56.0</td><td>340</td><td>3.93</td></tr><tr><th>11</th><td>0.22</td><td>Premium</td><td>F</td><td>SI1</td><td>60.4</td><td>61.0</td><td>342</td><td>3.88</td></tr><tr><th>12</th><td>0.31</td><td>Ideal</td><td>J</td><td>SI2</td><td>62.2</td><td>54.0</td><td>344</td><td>4.35</td></tr><tr><th>13</th><td>0.2</td><td>Premium</td><td>E</td><td>SI2</td><td>60.2</td><td>62.0</td><td>345</td><td>3.79</td></tr><tr><th>14</th><td>0.32</td><td>Premium</td><td>E</td><td>I1</td><td>60.9</td><td>58.0</td><td>345</td><td>4.38</td></tr><tr><th>15</th><td>0.3</td><td>Ideal</td><td>I</td><td>SI2</td><td>62.0</td><td>54.0</td><td>348</td><td>4.31</td></tr><tr><th>16</th><td>0.3</td><td>Good</td><td>J</td><td>SI1</td><td>63.4</td><td>54.0</td><td>351</td><td>4.23</td></tr><tr><th>17</th><td>0.3</td><td>Good</td><td>J</td><td>SI1</td><td>63.8</td><td>56.0</td><td>351</td><td>4.23</td></tr><tr><th>18</th><td>0.3</td><td>Very Good</td><td>J</td><td>SI1</td><td>62.7</td><td>59.0</td><td>351</td><td>4.21</td></tr><tr><th>19</th><td>0.3</td><td>Good</td><td>I</td><td>SI2</td><td>63.3</td><td>56.0</td><td>351</td><td>4.26</td></tr><tr><th>20</th><td>0.23</td><td>Very Good</td><td>E</td><td>VS2</td><td>63.8</td><td>55.0</td><td>352</td><td>3.85</td></tr><tr><th>21</th><td>0.23</td><td>Very Good</td><td>H</td><td>VS1</td><td>61.0</td><td>57.0</td><td>353</td><td>3.94</td></tr><tr><th>22</th><td>0.31</td><td>Very Good</td><td>J</td><td>SI1</td><td>59.4</td><td>62.0</td><td>353</td><td>4.39</td></tr><tr><th>23</th><td>0.23</td><td>Very Good</td><td>G</td><td>VVS2</td><td>60.4</td><td>58.0</td><td>354</td><td>3.97</td></tr><tr><th>24</th><td>0.24</td><td>Premium</td><td>I</td><td>VS1</td><td>62.5</td><td>57.0</td><td>355</td><td>3.97</td></tr><tr><th>25</th><td>0.3</td><td>Very Good</td><td>J</td><td>VS2</td><td>62.2</td><td>57.0</td><td>357</td><td>4.28</td></tr><tr><th>26</th><td>0.23</td><td>Very Good</td><td>D</td><td>VS2</td><td>60.5</td><td>61.0</td><td>357</td><td>3.96</td></tr><tr><th>27</th><td>0.23</td><td>Very Good</td><td>F</td><td>VS1</td><td>60.9</td><td>57.0</td><td>357</td><td>3.96</td></tr><tr><th>28</th><td>0.23</td><td>Very Good</td><td>F</td><td>VS1</td><td>60.0</td><td>57.0</td><td>402</td><td>4.0</td></tr><tr><th>29</th><td>0.23</td><td>Very Good</td><td>F</td><td>VS1</td><td>59.8</td><td>57.0</td><td>402</td><td>4.04</td></tr><tr><th>30</th><td>0.23</td><td>Very Good</td><td>E</td><td>VS1</td><td>60.7</td><td>59.0</td><td>402</td><td>3.97</td></tr><tr><th>&vellip;</th><td>&vellip;</td><td>&vellip;</td><td>&vellip;</td><td>&vellip;</td><td>&vellip;</td><td>&vellip;</td><td>&vellip;</td><td>&vellip;</td></tr></tbody></table></div>"
      ],
      "text/latex": [
       "\\begin{tabular}{r|ccccccccc}\n",
       "\t& carat & cut & color & clarity & total\\_depth\\_percentage & table & price & length & \\\\\n",
       "\t\\hline\n",
       "\t& Float64 & String15 & String1 & String7 & Float64 & Float64 & Int64 & Float64 & \\\\\n",
       "\t\\hline\n",
       "\t1 & 0.23 & Ideal & E & SI2 & 61.5 & 55.0 & 326 & 3.95 & $\\dots$ \\\\\n",
       "\t2 & 0.21 & Premium & E & SI1 & 59.8 & 61.0 & 326 & 3.89 & $\\dots$ \\\\\n",
       "\t3 & 0.29 & Premium & I & VS2 & 62.4 & 58.0 & 334 & 4.2 & $\\dots$ \\\\\n",
       "\t4 & 0.31 & Good & J & SI2 & 63.3 & 58.0 & 335 & 4.34 & $\\dots$ \\\\\n",
       "\t5 & 0.24 & Very Good & J & VVS2 & 62.8 & 57.0 & 336 & 3.94 & $\\dots$ \\\\\n",
       "\t6 & 0.24 & Very Good & I & VVS1 & 62.3 & 57.0 & 336 & 3.95 & $\\dots$ \\\\\n",
       "\t7 & 0.26 & Very Good & H & SI1 & 61.9 & 55.0 & 337 & 4.07 & $\\dots$ \\\\\n",
       "\t8 & 0.23 & Very Good & H & VS1 & 59.4 & 61.0 & 338 & 4.0 & $\\dots$ \\\\\n",
       "\t9 & 0.3 & Good & J & SI1 & 64.0 & 55.0 & 339 & 4.25 & $\\dots$ \\\\\n",
       "\t10 & 0.23 & Ideal & J & VS1 & 62.8 & 56.0 & 340 & 3.93 & $\\dots$ \\\\\n",
       "\t11 & 0.22 & Premium & F & SI1 & 60.4 & 61.0 & 342 & 3.88 & $\\dots$ \\\\\n",
       "\t12 & 0.31 & Ideal & J & SI2 & 62.2 & 54.0 & 344 & 4.35 & $\\dots$ \\\\\n",
       "\t13 & 0.2 & Premium & E & SI2 & 60.2 & 62.0 & 345 & 3.79 & $\\dots$ \\\\\n",
       "\t14 & 0.32 & Premium & E & I1 & 60.9 & 58.0 & 345 & 4.38 & $\\dots$ \\\\\n",
       "\t15 & 0.3 & Ideal & I & SI2 & 62.0 & 54.0 & 348 & 4.31 & $\\dots$ \\\\\n",
       "\t16 & 0.3 & Good & J & SI1 & 63.4 & 54.0 & 351 & 4.23 & $\\dots$ \\\\\n",
       "\t17 & 0.3 & Good & J & SI1 & 63.8 & 56.0 & 351 & 4.23 & $\\dots$ \\\\\n",
       "\t18 & 0.3 & Very Good & J & SI1 & 62.7 & 59.0 & 351 & 4.21 & $\\dots$ \\\\\n",
       "\t19 & 0.3 & Good & I & SI2 & 63.3 & 56.0 & 351 & 4.26 & $\\dots$ \\\\\n",
       "\t20 & 0.23 & Very Good & E & VS2 & 63.8 & 55.0 & 352 & 3.85 & $\\dots$ \\\\\n",
       "\t21 & 0.23 & Very Good & H & VS1 & 61.0 & 57.0 & 353 & 3.94 & $\\dots$ \\\\\n",
       "\t22 & 0.31 & Very Good & J & SI1 & 59.4 & 62.0 & 353 & 4.39 & $\\dots$ \\\\\n",
       "\t23 & 0.23 & Very Good & G & VVS2 & 60.4 & 58.0 & 354 & 3.97 & $\\dots$ \\\\\n",
       "\t24 & 0.24 & Premium & I & VS1 & 62.5 & 57.0 & 355 & 3.97 & $\\dots$ \\\\\n",
       "\t25 & 0.3 & Very Good & J & VS2 & 62.2 & 57.0 & 357 & 4.28 & $\\dots$ \\\\\n",
       "\t26 & 0.23 & Very Good & D & VS2 & 60.5 & 61.0 & 357 & 3.96 & $\\dots$ \\\\\n",
       "\t27 & 0.23 & Very Good & F & VS1 & 60.9 & 57.0 & 357 & 3.96 & $\\dots$ \\\\\n",
       "\t28 & 0.23 & Very Good & F & VS1 & 60.0 & 57.0 & 402 & 4.0 & $\\dots$ \\\\\n",
       "\t29 & 0.23 & Very Good & F & VS1 & 59.8 & 57.0 & 402 & 4.04 & $\\dots$ \\\\\n",
       "\t30 & 0.23 & Very Good & E & VS1 & 60.7 & 59.0 & 402 & 3.97 & $\\dots$ \\\\\n",
       "\t$\\dots$ & $\\dots$ & $\\dots$ & $\\dots$ & $\\dots$ & $\\dots$ & $\\dots$ & $\\dots$ & $\\dots$ &  \\\\\n",
       "\\end{tabular}\n"
      ],
      "text/plain": [
       "\u001b[1m47412×10 DataFrame\u001b[0m\n",
       "\u001b[1m   Row \u001b[0m│\u001b[1m carat   \u001b[0m\u001b[1m cut       \u001b[0m\u001b[1m color   \u001b[0m\u001b[1m clarity \u001b[0m\u001b[1m total_depth_percentage \u001b[0m\u001b[1m table  \u001b[0m ⋯\n",
       "\u001b[1m       \u001b[0m│\u001b[90m Float64 \u001b[0m\u001b[90m String15  \u001b[0m\u001b[90m String1 \u001b[0m\u001b[90m String7 \u001b[0m\u001b[90m Float64                \u001b[0m\u001b[90m Float64\u001b[0m ⋯\n",
       "───────┼────────────────────────────────────────────────────────────────────────\n",
       "     1 │    0.23  Ideal      E        SI2                        61.5     55.0 ⋯\n",
       "     2 │    0.21  Premium    E        SI1                        59.8     61.0\n",
       "     3 │    0.29  Premium    I        VS2                        62.4     58.0\n",
       "     4 │    0.31  Good       J        SI2                        63.3     58.0\n",
       "     5 │    0.24  Very Good  J        VVS2                       62.8     57.0 ⋯\n",
       "     6 │    0.24  Very Good  I        VVS1                       62.3     57.0\n",
       "     7 │    0.26  Very Good  H        SI1                        61.9     55.0\n",
       "     8 │    0.23  Very Good  H        VS1                        59.4     61.0\n",
       "     9 │    0.3   Good       J        SI1                        64.0     55.0 ⋯\n",
       "    10 │    0.23  Ideal      J        VS1                        62.8     56.0\n",
       "    11 │    0.22  Premium    F        SI1                        60.4     61.0\n",
       "   ⋮   │    ⋮         ⋮         ⋮        ⋮               ⋮                ⋮    ⋱\n",
       " 47403 │    0.71  Premium    E        SI1                        60.5     55.0\n",
       " 47404 │    0.71  Premium    F        SI1                        59.8     62.0 ⋯\n",
       " 47405 │    0.7   Very Good  E        VS2                        60.5     59.0\n",
       " 47406 │    0.7   Very Good  E        VS2                        61.2     59.0\n",
       " 47407 │    0.72  Premium    D        SI1                        62.7     59.0\n",
       " 47408 │    0.72  Ideal      D        SI1                        60.8     57.0 ⋯\n",
       " 47409 │    0.72  Good       D        SI1                        63.1     55.0\n",
       " 47410 │    0.7   Very Good  D        SI1                        62.8     60.0\n",
       " 47411 │    0.86  Premium    H        SI2                        61.0     58.0\n",
       " 47412 │    0.75  Ideal      D        SI2                        62.2     55.0 ⋯\n",
       "\u001b[36m                                                4 columns and 47391 rows omitted\u001b[0m"
      ]
     },
     "execution_count": 12,
     "metadata": {},
     "output_type": "execute_result"
    }
   ],
   "source": [
    "# Delete Duplicates\n",
    "\n",
    "numberOfDuplicates = getNumberOfDuplicates(df_filtered_without_outliers)\n",
    "\n",
    "println(\"Number of duplicated entries: $(numberOfDuplicates)\")\n",
    "\n",
    "df_without_duplicates = deleteDuplicatedRows(df_filtered_without_outliers)"
   ]
  },
  {
   "cell_type": "code",
   "execution_count": 13,
   "metadata": {},
   "outputs": [
    {
     "name": "stdout",
     "output_type": "stream",
     "text": [
      "Rows with a relative error greater or equal to 5.0% :\n"
     ]
    },
    {
     "data": {
      "text/html": [
       "<div class=\"data-frame\"><p>22 rows × 6 columns (omitted printing of 1 columns)</p><table class=\"data-frame\"><thead><tr><th></th><th>cut</th><th>total_depth_percentage_check</th><th>total_depth_percentage</th><th>length</th><th>depth</th></tr><tr><th></th><th title=\"String15\">String15</th><th title=\"Float64\">Float64</th><th title=\"Float64\">Float64</th><th title=\"Float64\">Float64</th><th title=\"Float64\">Float64</th></tr></thead><tbody><tr><th>1</th><td>Premium</td><td>68.1777</td><td>62.6</td><td>6.79</td><td>3.76</td></tr><tr><th>2</th><td>Very Good</td><td>51.245</td><td>62.8</td><td>6.26</td><td>3.19</td></tr><tr><th>3</th><td>Premium</td><td>66.5549</td><td>61.5</td><td>5.99</td><td>3.97</td></tr><tr><th>4</th><td>Ideal</td><td>65.8346</td><td>61.1</td><td>6.9</td><td>4.22</td></tr><tr><th>5</th><td>Ideal</td><td>65.8346</td><td>61.1</td><td>6.9</td><td>4.22</td></tr><tr><th>6</th><td>Premium</td><td>68.8372</td><td>61.6</td><td>6.64</td><td>3.7</td></tr><tr><th>7</th><td>Premium</td><td>55.0346</td><td>59.2</td><td>6.53</td><td>3.58</td></tr><tr><th>8</th><td>Ideal</td><td>20.4956</td><td>61.9</td><td>7.43</td><td>1.53</td></tr><tr><th>9</th><td>Ideal</td><td>19.4081</td><td>60.7</td><td>7.31</td><td>1.41</td></tr><tr><th>10</th><td>Premium</td><td>62.0408</td><td>59.0</td><td>7.39</td><td>4.56</td></tr><tr><th>11</th><td>Premium</td><td>65.7976</td><td>62.1</td><td>8.1</td><td>5.3</td></tr><tr><th>12</th><td>Premium</td><td>84.3305</td><td>61.2</td><td>4.51</td><td>4.44</td></tr><tr><th>13</th><td>Ideal</td><td>54.9189</td><td>61.4</td><td>4.64</td><td>2.54</td></tr><tr><th>14</th><td>Ideal</td><td>43.8765</td><td>60.9</td><td>4.71</td><td>2.06</td></tr><tr><th>15</th><td>Very Good</td><td>42.2535</td><td>61.0</td><td>5.31</td><td>2.25</td></tr><tr><th>16</th><td>Ideal</td><td>57.2183</td><td>62.7</td><td>5.16</td><td>3.25</td></tr><tr><th>17</th><td>Premium</td><td>56.0778</td><td>62.0</td><td>6.65</td><td>3.46</td></tr><tr><th>18</th><td>Very Good</td><td>100.697</td><td>63.7</td><td>5.01</td><td>5.06</td></tr><tr><th>19</th><td>Premium</td><td>59.1133</td><td>62.6</td><td>5.65</td><td>3.0</td></tr><tr><th>20</th><td>Premium</td><td>56.2197</td><td>61.2</td><td>6.65</td><td>3.48</td></tr><tr><th>21</th><td>Premium</td><td>65.0519</td><td>60.0</td><td>5.8</td><td>3.76</td></tr><tr><th>22</th><td>Premium</td><td>64.4584</td><td>60.0</td><td>5.62</td><td>3.6</td></tr></tbody></table></div>"
      ],
      "text/latex": [
       "\\begin{tabular}{r|cccccc}\n",
       "\t& cut & total\\_depth\\_percentage\\_check & total\\_depth\\_percentage & length & depth & \\\\\n",
       "\t\\hline\n",
       "\t& String15 & Float64 & Float64 & Float64 & Float64 & \\\\\n",
       "\t\\hline\n",
       "\t1 & Premium & 68.1777 & 62.6 & 6.79 & 3.76 & $\\dots$ \\\\\n",
       "\t2 & Very Good & 51.245 & 62.8 & 6.26 & 3.19 & $\\dots$ \\\\\n",
       "\t3 & Premium & 66.5549 & 61.5 & 5.99 & 3.97 & $\\dots$ \\\\\n",
       "\t4 & Ideal & 65.8346 & 61.1 & 6.9 & 4.22 & $\\dots$ \\\\\n",
       "\t5 & Ideal & 65.8346 & 61.1 & 6.9 & 4.22 & $\\dots$ \\\\\n",
       "\t6 & Premium & 68.8372 & 61.6 & 6.64 & 3.7 & $\\dots$ \\\\\n",
       "\t7 & Premium & 55.0346 & 59.2 & 6.53 & 3.58 & $\\dots$ \\\\\n",
       "\t8 & Ideal & 20.4956 & 61.9 & 7.43 & 1.53 & $\\dots$ \\\\\n",
       "\t9 & Ideal & 19.4081 & 60.7 & 7.31 & 1.41 & $\\dots$ \\\\\n",
       "\t10 & Premium & 62.0408 & 59.0 & 7.39 & 4.56 & $\\dots$ \\\\\n",
       "\t11 & Premium & 65.7976 & 62.1 & 8.1 & 5.3 & $\\dots$ \\\\\n",
       "\t12 & Premium & 84.3305 & 61.2 & 4.51 & 4.44 & $\\dots$ \\\\\n",
       "\t13 & Ideal & 54.9189 & 61.4 & 4.64 & 2.54 & $\\dots$ \\\\\n",
       "\t14 & Ideal & 43.8765 & 60.9 & 4.71 & 2.06 & $\\dots$ \\\\\n",
       "\t15 & Very Good & 42.2535 & 61.0 & 5.31 & 2.25 & $\\dots$ \\\\\n",
       "\t16 & Ideal & 57.2183 & 62.7 & 5.16 & 3.25 & $\\dots$ \\\\\n",
       "\t17 & Premium & 56.0778 & 62.0 & 6.65 & 3.46 & $\\dots$ \\\\\n",
       "\t18 & Very Good & 100.697 & 63.7 & 5.01 & 5.06 & $\\dots$ \\\\\n",
       "\t19 & Premium & 59.1133 & 62.6 & 5.65 & 3.0 & $\\dots$ \\\\\n",
       "\t20 & Premium & 56.2197 & 61.2 & 6.65 & 3.48 & $\\dots$ \\\\\n",
       "\t21 & Premium & 65.0519 & 60.0 & 5.8 & 3.76 & $\\dots$ \\\\\n",
       "\t22 & Premium & 64.4584 & 60.0 & 5.62 & 3.6 & $\\dots$ \\\\\n",
       "\\end{tabular}\n"
      ],
      "text/plain": [
       "\u001b[1m22×6 DataFrame\u001b[0m\n",
       "\u001b[1m Row \u001b[0m│\u001b[1m cut       \u001b[0m\u001b[1m total_depth_percentage_check \u001b[0m\u001b[1m total_depth_percentage \u001b[0m\u001b[1m length\u001b[0m ⋯\n",
       "\u001b[1m     \u001b[0m│\u001b[90m String15  \u001b[0m\u001b[90m Float64                      \u001b[0m\u001b[90m Float64                \u001b[0m\u001b[90m Float6\u001b[0m ⋯\n",
       "─────┼──────────────────────────────────────────────────────────────────────────\n",
       "   1 │ Premium                         68.1777                    62.6     6.7 ⋯\n",
       "   2 │ Very Good                       51.245                     62.8     6.2\n",
       "   3 │ Premium                         66.5549                    61.5     5.9\n",
       "   4 │ Ideal                           65.8346                    61.1     6.9\n",
       "   5 │ Ideal                           65.8346                    61.1     6.9 ⋯\n",
       "   6 │ Premium                         68.8372                    61.6     6.6\n",
       "   7 │ Premium                         55.0346                    59.2     6.5\n",
       "   8 │ Ideal                           20.4956                    61.9     7.4\n",
       "   9 │ Ideal                           19.4081                    60.7     7.3 ⋯\n",
       "  10 │ Premium                         62.0408                    59.0     7.3\n",
       "  11 │ Premium                         65.7976                    62.1     8.1\n",
       "  12 │ Premium                         84.3305                    61.2     4.5\n",
       "  13 │ Ideal                           54.9189                    61.4     4.6 ⋯\n",
       "  14 │ Ideal                           43.8765                    60.9     4.7\n",
       "  15 │ Very Good                       42.2535                    61.0     5.3\n",
       "  16 │ Ideal                           57.2183                    62.7     5.1\n",
       "  17 │ Premium                         56.0778                    62.0     6.6 ⋯\n",
       "  18 │ Very Good                      100.697                     63.7     5.0\n",
       "  19 │ Premium                         59.1133                    62.6     5.6\n",
       "  20 │ Premium                         56.2197                    61.2     6.6\n",
       "  21 │ Premium                         65.0519                    60.0     5.8 ⋯\n",
       "  22 │ Premium                         64.4584                    60.0     5.6\n",
       "\u001b[36m                                                               3 columns omitted\u001b[0m"
      ]
     },
     "metadata": {},
     "output_type": "display_data"
    },
    {
     "name": "stdout",
     "output_type": "stream",
     "text": [
      "Dataset without relative errors 47390 over 47412.\n"
     ]
    }
   ],
   "source": [
    "columns_to_previsualize = [:cut, :total_depth_percentage_check, :total_depth_percentage, :length, :depth, :width]\n",
    "\n",
    "error_rate = 0.05\n",
    "\n",
    "error_indices, df_with_check = getTotalDepthPercentageErrorIndices(df_without_duplicates, error_rate=error_rate)\n",
    "\n",
    "println(\"Rows with a relative error greater or equal to $(error_rate*100)% :\")\n",
    "display(df_with_check[error_indices, columns_to_previsualize])\n",
    "\n",
    "df_without_relative_errors = deleteTotalDepthPercentageErrors(df_without_duplicates, error_indices)\n",
    "\n",
    "println(\"Dataset without relative errors $(size(df_without_relative_errors,1)) over $(size(df_without_duplicates,1)).\")"
   ]
  },
  {
   "cell_type": "code",
   "execution_count": 14,
   "metadata": {},
   "outputs": [
    {
     "data": {
      "text/plain": [
       "10-element Vector{Float64}:\n",
       " 38.20203\n",
       " 34.505856\n",
       " 46.72458\n",
       " 51.917249999999996\n",
       " 38.693952\n",
       " 38.830870000000004\n",
       " 42.32108100000001\n",
       " 38.718\n",
       " 49.6587\n",
       " 37.70442"
      ]
     },
     "metadata": {},
     "output_type": "display_data"
    }
   ],
   "source": [
    "# Volume variable\n",
    "\n",
    "df_with_volume = addVolumeColumntoDataframe(df_without_relative_errors)\n",
    "\n",
    "display(df_with_volume[1:10,\"volume\"])"
   ]
  },
  {
   "cell_type": "markdown",
   "metadata": {},
   "source": [
    "# 3. Descriptive analysis."
   ]
  },
  {
   "cell_type": "code",
   "execution_count": 15,
   "metadata": {},
   "outputs": [],
   "source": [
    "# plot_dataframe(df_without_relative_errors, categorical_columns, numerical_columns, save_charts=true)"
   ]
  },
  {
   "cell_type": "code",
   "execution_count": 16,
   "metadata": {},
   "outputs": [
    {
     "data": {
      "text/html": [
       "<div class=\"data-frame\"><p>47,390 rows × 10 columns (omitted printing of 2 columns)</p><table class=\"data-frame\"><thead><tr><th></th><th>carat</th><th>cut</th><th>color</th><th>clarity</th><th>total_depth_percentage</th><th>table</th><th>price</th><th>length</th></tr><tr><th></th><th title=\"Float64\">Float64</th><th title=\"String15\">String15</th><th title=\"String1\">String1</th><th title=\"String7\">String7</th><th title=\"Float64\">Float64</th><th title=\"Float64\">Float64</th><th title=\"Int64\">Int64</th><th title=\"Float64\">Float64</th></tr></thead><tbody><tr><th>1</th><td>0.23</td><td>Ideal</td><td>E</td><td>SI2</td><td>61.5</td><td>55.0</td><td>326</td><td>3.95</td></tr><tr><th>2</th><td>0.21</td><td>Premium</td><td>E</td><td>SI1</td><td>59.8</td><td>61.0</td><td>326</td><td>3.89</td></tr><tr><th>3</th><td>0.29</td><td>Premium</td><td>I</td><td>VS2</td><td>62.4</td><td>58.0</td><td>334</td><td>4.2</td></tr><tr><th>4</th><td>0.31</td><td>Good</td><td>J</td><td>SI2</td><td>63.3</td><td>58.0</td><td>335</td><td>4.34</td></tr><tr><th>5</th><td>0.24</td><td>Very Good</td><td>J</td><td>VVS2</td><td>62.8</td><td>57.0</td><td>336</td><td>3.94</td></tr><tr><th>6</th><td>0.24</td><td>Very Good</td><td>I</td><td>VVS1</td><td>62.3</td><td>57.0</td><td>336</td><td>3.95</td></tr><tr><th>7</th><td>0.26</td><td>Very Good</td><td>H</td><td>SI1</td><td>61.9</td><td>55.0</td><td>337</td><td>4.07</td></tr><tr><th>8</th><td>0.23</td><td>Very Good</td><td>H</td><td>VS1</td><td>59.4</td><td>61.0</td><td>338</td><td>4.0</td></tr><tr><th>9</th><td>0.3</td><td>Good</td><td>J</td><td>SI1</td><td>64.0</td><td>55.0</td><td>339</td><td>4.25</td></tr><tr><th>10</th><td>0.23</td><td>Ideal</td><td>J</td><td>VS1</td><td>62.8</td><td>56.0</td><td>340</td><td>3.93</td></tr><tr><th>11</th><td>0.22</td><td>Premium</td><td>F</td><td>SI1</td><td>60.4</td><td>61.0</td><td>342</td><td>3.88</td></tr><tr><th>12</th><td>0.31</td><td>Ideal</td><td>J</td><td>SI2</td><td>62.2</td><td>54.0</td><td>344</td><td>4.35</td></tr><tr><th>13</th><td>0.2</td><td>Premium</td><td>E</td><td>SI2</td><td>60.2</td><td>62.0</td><td>345</td><td>3.79</td></tr><tr><th>14</th><td>0.32</td><td>Premium</td><td>E</td><td>I1</td><td>60.9</td><td>58.0</td><td>345</td><td>4.38</td></tr><tr><th>15</th><td>0.3</td><td>Ideal</td><td>I</td><td>SI2</td><td>62.0</td><td>54.0</td><td>348</td><td>4.31</td></tr><tr><th>16</th><td>0.3</td><td>Good</td><td>J</td><td>SI1</td><td>63.4</td><td>54.0</td><td>351</td><td>4.23</td></tr><tr><th>17</th><td>0.3</td><td>Good</td><td>J</td><td>SI1</td><td>63.8</td><td>56.0</td><td>351</td><td>4.23</td></tr><tr><th>18</th><td>0.3</td><td>Very Good</td><td>J</td><td>SI1</td><td>62.7</td><td>59.0</td><td>351</td><td>4.21</td></tr><tr><th>19</th><td>0.3</td><td>Good</td><td>I</td><td>SI2</td><td>63.3</td><td>56.0</td><td>351</td><td>4.26</td></tr><tr><th>20</th><td>0.23</td><td>Very Good</td><td>E</td><td>VS2</td><td>63.8</td><td>55.0</td><td>352</td><td>3.85</td></tr><tr><th>21</th><td>0.23</td><td>Very Good</td><td>H</td><td>VS1</td><td>61.0</td><td>57.0</td><td>353</td><td>3.94</td></tr><tr><th>22</th><td>0.31</td><td>Very Good</td><td>J</td><td>SI1</td><td>59.4</td><td>62.0</td><td>353</td><td>4.39</td></tr><tr><th>23</th><td>0.23</td><td>Very Good</td><td>G</td><td>VVS2</td><td>60.4</td><td>58.0</td><td>354</td><td>3.97</td></tr><tr><th>24</th><td>0.24</td><td>Premium</td><td>I</td><td>VS1</td><td>62.5</td><td>57.0</td><td>355</td><td>3.97</td></tr><tr><th>25</th><td>0.3</td><td>Very Good</td><td>J</td><td>VS2</td><td>62.2</td><td>57.0</td><td>357</td><td>4.28</td></tr><tr><th>26</th><td>0.23</td><td>Very Good</td><td>D</td><td>VS2</td><td>60.5</td><td>61.0</td><td>357</td><td>3.96</td></tr><tr><th>27</th><td>0.23</td><td>Very Good</td><td>F</td><td>VS1</td><td>60.9</td><td>57.0</td><td>357</td><td>3.96</td></tr><tr><th>28</th><td>0.23</td><td>Very Good</td><td>F</td><td>VS1</td><td>60.0</td><td>57.0</td><td>402</td><td>4.0</td></tr><tr><th>29</th><td>0.23</td><td>Very Good</td><td>F</td><td>VS1</td><td>59.8</td><td>57.0</td><td>402</td><td>4.04</td></tr><tr><th>30</th><td>0.23</td><td>Very Good</td><td>E</td><td>VS1</td><td>60.7</td><td>59.0</td><td>402</td><td>3.97</td></tr><tr><th>&vellip;</th><td>&vellip;</td><td>&vellip;</td><td>&vellip;</td><td>&vellip;</td><td>&vellip;</td><td>&vellip;</td><td>&vellip;</td><td>&vellip;</td></tr></tbody></table></div>"
      ],
      "text/latex": [
       "\\begin{tabular}{r|ccccccccc}\n",
       "\t& carat & cut & color & clarity & total\\_depth\\_percentage & table & price & length & \\\\\n",
       "\t\\hline\n",
       "\t& Float64 & String15 & String1 & String7 & Float64 & Float64 & Int64 & Float64 & \\\\\n",
       "\t\\hline\n",
       "\t1 & 0.23 & Ideal & E & SI2 & 61.5 & 55.0 & 326 & 3.95 & $\\dots$ \\\\\n",
       "\t2 & 0.21 & Premium & E & SI1 & 59.8 & 61.0 & 326 & 3.89 & $\\dots$ \\\\\n",
       "\t3 & 0.29 & Premium & I & VS2 & 62.4 & 58.0 & 334 & 4.2 & $\\dots$ \\\\\n",
       "\t4 & 0.31 & Good & J & SI2 & 63.3 & 58.0 & 335 & 4.34 & $\\dots$ \\\\\n",
       "\t5 & 0.24 & Very Good & J & VVS2 & 62.8 & 57.0 & 336 & 3.94 & $\\dots$ \\\\\n",
       "\t6 & 0.24 & Very Good & I & VVS1 & 62.3 & 57.0 & 336 & 3.95 & $\\dots$ \\\\\n",
       "\t7 & 0.26 & Very Good & H & SI1 & 61.9 & 55.0 & 337 & 4.07 & $\\dots$ \\\\\n",
       "\t8 & 0.23 & Very Good & H & VS1 & 59.4 & 61.0 & 338 & 4.0 & $\\dots$ \\\\\n",
       "\t9 & 0.3 & Good & J & SI1 & 64.0 & 55.0 & 339 & 4.25 & $\\dots$ \\\\\n",
       "\t10 & 0.23 & Ideal & J & VS1 & 62.8 & 56.0 & 340 & 3.93 & $\\dots$ \\\\\n",
       "\t11 & 0.22 & Premium & F & SI1 & 60.4 & 61.0 & 342 & 3.88 & $\\dots$ \\\\\n",
       "\t12 & 0.31 & Ideal & J & SI2 & 62.2 & 54.0 & 344 & 4.35 & $\\dots$ \\\\\n",
       "\t13 & 0.2 & Premium & E & SI2 & 60.2 & 62.0 & 345 & 3.79 & $\\dots$ \\\\\n",
       "\t14 & 0.32 & Premium & E & I1 & 60.9 & 58.0 & 345 & 4.38 & $\\dots$ \\\\\n",
       "\t15 & 0.3 & Ideal & I & SI2 & 62.0 & 54.0 & 348 & 4.31 & $\\dots$ \\\\\n",
       "\t16 & 0.3 & Good & J & SI1 & 63.4 & 54.0 & 351 & 4.23 & $\\dots$ \\\\\n",
       "\t17 & 0.3 & Good & J & SI1 & 63.8 & 56.0 & 351 & 4.23 & $\\dots$ \\\\\n",
       "\t18 & 0.3 & Very Good & J & SI1 & 62.7 & 59.0 & 351 & 4.21 & $\\dots$ \\\\\n",
       "\t19 & 0.3 & Good & I & SI2 & 63.3 & 56.0 & 351 & 4.26 & $\\dots$ \\\\\n",
       "\t20 & 0.23 & Very Good & E & VS2 & 63.8 & 55.0 & 352 & 3.85 & $\\dots$ \\\\\n",
       "\t21 & 0.23 & Very Good & H & VS1 & 61.0 & 57.0 & 353 & 3.94 & $\\dots$ \\\\\n",
       "\t22 & 0.31 & Very Good & J & SI1 & 59.4 & 62.0 & 353 & 4.39 & $\\dots$ \\\\\n",
       "\t23 & 0.23 & Very Good & G & VVS2 & 60.4 & 58.0 & 354 & 3.97 & $\\dots$ \\\\\n",
       "\t24 & 0.24 & Premium & I & VS1 & 62.5 & 57.0 & 355 & 3.97 & $\\dots$ \\\\\n",
       "\t25 & 0.3 & Very Good & J & VS2 & 62.2 & 57.0 & 357 & 4.28 & $\\dots$ \\\\\n",
       "\t26 & 0.23 & Very Good & D & VS2 & 60.5 & 61.0 & 357 & 3.96 & $\\dots$ \\\\\n",
       "\t27 & 0.23 & Very Good & F & VS1 & 60.9 & 57.0 & 357 & 3.96 & $\\dots$ \\\\\n",
       "\t28 & 0.23 & Very Good & F & VS1 & 60.0 & 57.0 & 402 & 4.0 & $\\dots$ \\\\\n",
       "\t29 & 0.23 & Very Good & F & VS1 & 59.8 & 57.0 & 402 & 4.04 & $\\dots$ \\\\\n",
       "\t30 & 0.23 & Very Good & E & VS1 & 60.7 & 59.0 & 402 & 3.97 & $\\dots$ \\\\\n",
       "\t$\\dots$ & $\\dots$ & $\\dots$ & $\\dots$ & $\\dots$ & $\\dots$ & $\\dots$ & $\\dots$ & $\\dots$ &  \\\\\n",
       "\\end{tabular}\n"
      ],
      "text/plain": [
       "\u001b[1m47390×10 DataFrame\u001b[0m\n",
       "\u001b[1m   Row \u001b[0m│\u001b[1m carat   \u001b[0m\u001b[1m cut       \u001b[0m\u001b[1m color   \u001b[0m\u001b[1m clarity \u001b[0m\u001b[1m total_depth_percentage \u001b[0m\u001b[1m table  \u001b[0m ⋯\n",
       "\u001b[1m       \u001b[0m│\u001b[90m Float64 \u001b[0m\u001b[90m String15  \u001b[0m\u001b[90m String1 \u001b[0m\u001b[90m String7 \u001b[0m\u001b[90m Float64                \u001b[0m\u001b[90m Float64\u001b[0m ⋯\n",
       "───────┼────────────────────────────────────────────────────────────────────────\n",
       "     1 │    0.23  Ideal      E        SI2                        61.5     55.0 ⋯\n",
       "     2 │    0.21  Premium    E        SI1                        59.8     61.0\n",
       "     3 │    0.29  Premium    I        VS2                        62.4     58.0\n",
       "     4 │    0.31  Good       J        SI2                        63.3     58.0\n",
       "     5 │    0.24  Very Good  J        VVS2                       62.8     57.0 ⋯\n",
       "     6 │    0.24  Very Good  I        VVS1                       62.3     57.0\n",
       "     7 │    0.26  Very Good  H        SI1                        61.9     55.0\n",
       "     8 │    0.23  Very Good  H        VS1                        59.4     61.0\n",
       "     9 │    0.3   Good       J        SI1                        64.0     55.0 ⋯\n",
       "    10 │    0.23  Ideal      J        VS1                        62.8     56.0\n",
       "    11 │    0.22  Premium    F        SI1                        60.4     61.0\n",
       "   ⋮   │    ⋮         ⋮         ⋮        ⋮               ⋮                ⋮    ⋱\n",
       " 47381 │    0.71  Premium    E        SI1                        60.5     55.0\n",
       " 47382 │    0.71  Premium    F        SI1                        59.8     62.0 ⋯\n",
       " 47383 │    0.7   Very Good  E        VS2                        60.5     59.0\n",
       " 47384 │    0.7   Very Good  E        VS2                        61.2     59.0\n",
       " 47385 │    0.72  Premium    D        SI1                        62.7     59.0\n",
       " 47386 │    0.72  Ideal      D        SI1                        60.8     57.0 ⋯\n",
       " 47387 │    0.72  Good       D        SI1                        63.1     55.0\n",
       " 47388 │    0.7   Very Good  D        SI1                        62.8     60.0\n",
       " 47389 │    0.86  Premium    H        SI2                        61.0     58.0\n",
       " 47390 │    0.75  Ideal      D        SI2                        62.2     55.0 ⋯\n",
       "\u001b[36m                                                4 columns and 47369 rows omitted\u001b[0m"
      ]
     },
     "execution_count": 16,
     "metadata": {},
     "output_type": "execute_result"
    }
   ],
   "source": [
    "df_preprocesed = copy(df_without_relative_errors)"
   ]
  },
  {
   "cell_type": "markdown",
   "metadata": {},
   "source": [
    "# 4. Data transformations."
   ]
  },
  {
   "cell_type": "markdown",
   "metadata": {},
   "source": [
    "## 4.1. Ordinal encoding and one-hot encoding."
   ]
  },
  {
   "cell_type": "code",
   "execution_count": 17,
   "metadata": {},
   "outputs": [
    {
     "data": {
      "text/html": [
       "<div class=\"data-frame\"><p>47,390 rows × 10 columns (omitted printing of 2 columns)</p><table class=\"data-frame\"><thead><tr><th></th><th>carat</th><th>cut</th><th>color</th><th>clarity</th><th>total_depth_percentage</th><th>table</th><th>price</th><th>length</th></tr><tr><th></th><th title=\"Float64\">Float64</th><th title=\"String15\">String15</th><th title=\"Int64\">Int64</th><th title=\"Int64\">Int64</th><th title=\"Float64\">Float64</th><th title=\"Float64\">Float64</th><th title=\"Int64\">Int64</th><th title=\"Float64\">Float64</th></tr></thead><tbody><tr><th>1</th><td>0.23</td><td>Ideal</td><td>6</td><td>2</td><td>61.5</td><td>55.0</td><td>326</td><td>3.95</td></tr><tr><th>2</th><td>0.21</td><td>Premium</td><td>6</td><td>3</td><td>59.8</td><td>61.0</td><td>326</td><td>3.89</td></tr><tr><th>3</th><td>0.29</td><td>Premium</td><td>2</td><td>4</td><td>62.4</td><td>58.0</td><td>334</td><td>4.2</td></tr><tr><th>4</th><td>0.31</td><td>Good</td><td>1</td><td>2</td><td>63.3</td><td>58.0</td><td>335</td><td>4.34</td></tr><tr><th>5</th><td>0.24</td><td>Very Good</td><td>1</td><td>6</td><td>62.8</td><td>57.0</td><td>336</td><td>3.94</td></tr><tr><th>6</th><td>0.24</td><td>Very Good</td><td>2</td><td>7</td><td>62.3</td><td>57.0</td><td>336</td><td>3.95</td></tr><tr><th>7</th><td>0.26</td><td>Very Good</td><td>3</td><td>3</td><td>61.9</td><td>55.0</td><td>337</td><td>4.07</td></tr><tr><th>8</th><td>0.23</td><td>Very Good</td><td>3</td><td>5</td><td>59.4</td><td>61.0</td><td>338</td><td>4.0</td></tr><tr><th>9</th><td>0.3</td><td>Good</td><td>1</td><td>3</td><td>64.0</td><td>55.0</td><td>339</td><td>4.25</td></tr><tr><th>10</th><td>0.23</td><td>Ideal</td><td>1</td><td>5</td><td>62.8</td><td>56.0</td><td>340</td><td>3.93</td></tr><tr><th>11</th><td>0.22</td><td>Premium</td><td>5</td><td>3</td><td>60.4</td><td>61.0</td><td>342</td><td>3.88</td></tr><tr><th>12</th><td>0.31</td><td>Ideal</td><td>1</td><td>2</td><td>62.2</td><td>54.0</td><td>344</td><td>4.35</td></tr><tr><th>13</th><td>0.2</td><td>Premium</td><td>6</td><td>2</td><td>60.2</td><td>62.0</td><td>345</td><td>3.79</td></tr><tr><th>14</th><td>0.32</td><td>Premium</td><td>6</td><td>1</td><td>60.9</td><td>58.0</td><td>345</td><td>4.38</td></tr><tr><th>15</th><td>0.3</td><td>Ideal</td><td>2</td><td>2</td><td>62.0</td><td>54.0</td><td>348</td><td>4.31</td></tr><tr><th>16</th><td>0.3</td><td>Good</td><td>1</td><td>3</td><td>63.4</td><td>54.0</td><td>351</td><td>4.23</td></tr><tr><th>17</th><td>0.3</td><td>Good</td><td>1</td><td>3</td><td>63.8</td><td>56.0</td><td>351</td><td>4.23</td></tr><tr><th>18</th><td>0.3</td><td>Very Good</td><td>1</td><td>3</td><td>62.7</td><td>59.0</td><td>351</td><td>4.21</td></tr><tr><th>19</th><td>0.3</td><td>Good</td><td>2</td><td>2</td><td>63.3</td><td>56.0</td><td>351</td><td>4.26</td></tr><tr><th>20</th><td>0.23</td><td>Very Good</td><td>6</td><td>4</td><td>63.8</td><td>55.0</td><td>352</td><td>3.85</td></tr><tr><th>21</th><td>0.23</td><td>Very Good</td><td>3</td><td>5</td><td>61.0</td><td>57.0</td><td>353</td><td>3.94</td></tr><tr><th>22</th><td>0.31</td><td>Very Good</td><td>1</td><td>3</td><td>59.4</td><td>62.0</td><td>353</td><td>4.39</td></tr><tr><th>23</th><td>0.23</td><td>Very Good</td><td>4</td><td>6</td><td>60.4</td><td>58.0</td><td>354</td><td>3.97</td></tr><tr><th>24</th><td>0.24</td><td>Premium</td><td>2</td><td>5</td><td>62.5</td><td>57.0</td><td>355</td><td>3.97</td></tr><tr><th>25</th><td>0.3</td><td>Very Good</td><td>1</td><td>4</td><td>62.2</td><td>57.0</td><td>357</td><td>4.28</td></tr><tr><th>26</th><td>0.23</td><td>Very Good</td><td>7</td><td>4</td><td>60.5</td><td>61.0</td><td>357</td><td>3.96</td></tr><tr><th>27</th><td>0.23</td><td>Very Good</td><td>5</td><td>5</td><td>60.9</td><td>57.0</td><td>357</td><td>3.96</td></tr><tr><th>28</th><td>0.23</td><td>Very Good</td><td>5</td><td>5</td><td>60.0</td><td>57.0</td><td>402</td><td>4.0</td></tr><tr><th>29</th><td>0.23</td><td>Very Good</td><td>5</td><td>5</td><td>59.8</td><td>57.0</td><td>402</td><td>4.04</td></tr><tr><th>30</th><td>0.23</td><td>Very Good</td><td>6</td><td>5</td><td>60.7</td><td>59.0</td><td>402</td><td>3.97</td></tr><tr><th>&vellip;</th><td>&vellip;</td><td>&vellip;</td><td>&vellip;</td><td>&vellip;</td><td>&vellip;</td><td>&vellip;</td><td>&vellip;</td><td>&vellip;</td></tr></tbody></table></div>"
      ],
      "text/latex": [
       "\\begin{tabular}{r|ccccccccc}\n",
       "\t& carat & cut & color & clarity & total\\_depth\\_percentage & table & price & length & \\\\\n",
       "\t\\hline\n",
       "\t& Float64 & String15 & Int64 & Int64 & Float64 & Float64 & Int64 & Float64 & \\\\\n",
       "\t\\hline\n",
       "\t1 & 0.23 & Ideal & 6 & 2 & 61.5 & 55.0 & 326 & 3.95 & $\\dots$ \\\\\n",
       "\t2 & 0.21 & Premium & 6 & 3 & 59.8 & 61.0 & 326 & 3.89 & $\\dots$ \\\\\n",
       "\t3 & 0.29 & Premium & 2 & 4 & 62.4 & 58.0 & 334 & 4.2 & $\\dots$ \\\\\n",
       "\t4 & 0.31 & Good & 1 & 2 & 63.3 & 58.0 & 335 & 4.34 & $\\dots$ \\\\\n",
       "\t5 & 0.24 & Very Good & 1 & 6 & 62.8 & 57.0 & 336 & 3.94 & $\\dots$ \\\\\n",
       "\t6 & 0.24 & Very Good & 2 & 7 & 62.3 & 57.0 & 336 & 3.95 & $\\dots$ \\\\\n",
       "\t7 & 0.26 & Very Good & 3 & 3 & 61.9 & 55.0 & 337 & 4.07 & $\\dots$ \\\\\n",
       "\t8 & 0.23 & Very Good & 3 & 5 & 59.4 & 61.0 & 338 & 4.0 & $\\dots$ \\\\\n",
       "\t9 & 0.3 & Good & 1 & 3 & 64.0 & 55.0 & 339 & 4.25 & $\\dots$ \\\\\n",
       "\t10 & 0.23 & Ideal & 1 & 5 & 62.8 & 56.0 & 340 & 3.93 & $\\dots$ \\\\\n",
       "\t11 & 0.22 & Premium & 5 & 3 & 60.4 & 61.0 & 342 & 3.88 & $\\dots$ \\\\\n",
       "\t12 & 0.31 & Ideal & 1 & 2 & 62.2 & 54.0 & 344 & 4.35 & $\\dots$ \\\\\n",
       "\t13 & 0.2 & Premium & 6 & 2 & 60.2 & 62.0 & 345 & 3.79 & $\\dots$ \\\\\n",
       "\t14 & 0.32 & Premium & 6 & 1 & 60.9 & 58.0 & 345 & 4.38 & $\\dots$ \\\\\n",
       "\t15 & 0.3 & Ideal & 2 & 2 & 62.0 & 54.0 & 348 & 4.31 & $\\dots$ \\\\\n",
       "\t16 & 0.3 & Good & 1 & 3 & 63.4 & 54.0 & 351 & 4.23 & $\\dots$ \\\\\n",
       "\t17 & 0.3 & Good & 1 & 3 & 63.8 & 56.0 & 351 & 4.23 & $\\dots$ \\\\\n",
       "\t18 & 0.3 & Very Good & 1 & 3 & 62.7 & 59.0 & 351 & 4.21 & $\\dots$ \\\\\n",
       "\t19 & 0.3 & Good & 2 & 2 & 63.3 & 56.0 & 351 & 4.26 & $\\dots$ \\\\\n",
       "\t20 & 0.23 & Very Good & 6 & 4 & 63.8 & 55.0 & 352 & 3.85 & $\\dots$ \\\\\n",
       "\t21 & 0.23 & Very Good & 3 & 5 & 61.0 & 57.0 & 353 & 3.94 & $\\dots$ \\\\\n",
       "\t22 & 0.31 & Very Good & 1 & 3 & 59.4 & 62.0 & 353 & 4.39 & $\\dots$ \\\\\n",
       "\t23 & 0.23 & Very Good & 4 & 6 & 60.4 & 58.0 & 354 & 3.97 & $\\dots$ \\\\\n",
       "\t24 & 0.24 & Premium & 2 & 5 & 62.5 & 57.0 & 355 & 3.97 & $\\dots$ \\\\\n",
       "\t25 & 0.3 & Very Good & 1 & 4 & 62.2 & 57.0 & 357 & 4.28 & $\\dots$ \\\\\n",
       "\t26 & 0.23 & Very Good & 7 & 4 & 60.5 & 61.0 & 357 & 3.96 & $\\dots$ \\\\\n",
       "\t27 & 0.23 & Very Good & 5 & 5 & 60.9 & 57.0 & 357 & 3.96 & $\\dots$ \\\\\n",
       "\t28 & 0.23 & Very Good & 5 & 5 & 60.0 & 57.0 & 402 & 4.0 & $\\dots$ \\\\\n",
       "\t29 & 0.23 & Very Good & 5 & 5 & 59.8 & 57.0 & 402 & 4.04 & $\\dots$ \\\\\n",
       "\t30 & 0.23 & Very Good & 6 & 5 & 60.7 & 59.0 & 402 & 3.97 & $\\dots$ \\\\\n",
       "\t$\\dots$ & $\\dots$ & $\\dots$ & $\\dots$ & $\\dots$ & $\\dots$ & $\\dots$ & $\\dots$ & $\\dots$ &  \\\\\n",
       "\\end{tabular}\n"
      ],
      "text/plain": [
       "\u001b[1m47390×10 DataFrame\u001b[0m\n",
       "\u001b[1m   Row \u001b[0m│\u001b[1m carat   \u001b[0m\u001b[1m cut       \u001b[0m\u001b[1m color \u001b[0m\u001b[1m clarity \u001b[0m\u001b[1m total_depth_percentage \u001b[0m\u001b[1m table   \u001b[0m\u001b[1m \u001b[0m ⋯\n",
       "\u001b[1m       \u001b[0m│\u001b[90m Float64 \u001b[0m\u001b[90m String15  \u001b[0m\u001b[90m Int64 \u001b[0m\u001b[90m Int64   \u001b[0m\u001b[90m Float64                \u001b[0m\u001b[90m Float64 \u001b[0m\u001b[90m \u001b[0m ⋯\n",
       "───────┼────────────────────────────────────────────────────────────────────────\n",
       "     1 │    0.23  Ideal          6        2                    61.5     55.0   ⋯\n",
       "     2 │    0.21  Premium        6        3                    59.8     61.0\n",
       "     3 │    0.29  Premium        2        4                    62.4     58.0\n",
       "     4 │    0.31  Good           1        2                    63.3     58.0\n",
       "     5 │    0.24  Very Good      1        6                    62.8     57.0   ⋯\n",
       "     6 │    0.24  Very Good      2        7                    62.3     57.0\n",
       "     7 │    0.26  Very Good      3        3                    61.9     55.0\n",
       "     8 │    0.23  Very Good      3        5                    59.4     61.0\n",
       "     9 │    0.3   Good           1        3                    64.0     55.0   ⋯\n",
       "    10 │    0.23  Ideal          1        5                    62.8     56.0\n",
       "    11 │    0.22  Premium        5        3                    60.4     61.0\n",
       "   ⋮   │    ⋮         ⋮        ⋮       ⋮               ⋮                ⋮      ⋱\n",
       " 47381 │    0.71  Premium        6        3                    60.5     55.0\n",
       " 47382 │    0.71  Premium        5        3                    59.8     62.0   ⋯\n",
       " 47383 │    0.7   Very Good      6        4                    60.5     59.0\n",
       " 47384 │    0.7   Very Good      6        4                    61.2     59.0\n",
       " 47385 │    0.72  Premium        7        3                    62.7     59.0\n",
       " 47386 │    0.72  Ideal          7        3                    60.8     57.0   ⋯\n",
       " 47387 │    0.72  Good           7        3                    63.1     55.0\n",
       " 47388 │    0.7   Very Good      7        3                    62.8     60.0\n",
       " 47389 │    0.86  Premium        3        2                    61.0     58.0\n",
       " 47390 │    0.75  Ideal          7        2                    62.2     55.0   ⋯\n",
       "\u001b[36m                                                4 columns and 47369 rows omitted\u001b[0m"
      ]
     },
     "execution_count": 17,
     "metadata": {},
     "output_type": "execute_result"
    }
   ],
   "source": [
    "# Ordinal enconding\n",
    "\n",
    "df_ordinal_encoded = diamondsOrdinalEncoding(df_preprocesed)"
   ]
  },
  {
   "cell_type": "code",
   "execution_count": 18,
   "metadata": {},
   "outputs": [
    {
     "data": {
      "text/plain": [
       "47390×5 BitMatrix:\n",
       " 0  0  0  0  1\n",
       " 0  0  0  1  0\n",
       " 0  0  0  1  0\n",
       " 0  1  0  0  0\n",
       " 0  0  1  0  0\n",
       " 0  0  1  0  0\n",
       " 0  0  1  0  0\n",
       " 0  0  1  0  0\n",
       " 0  1  0  0  0\n",
       " 0  0  0  0  1\n",
       " 0  0  0  1  0\n",
       " 0  0  0  0  1\n",
       " 0  0  0  1  0\n",
       " ⋮           \n",
       " 0  0  0  1  0\n",
       " 0  0  0  0  1\n",
       " 0  0  0  1  0\n",
       " 0  0  0  1  0\n",
       " 0  0  1  0  0\n",
       " 0  0  1  0  0\n",
       " 0  0  0  1  0\n",
       " 0  0  0  0  1\n",
       " 0  1  0  0  0\n",
       " 0  0  1  0  0\n",
       " 0  0  0  1  0\n",
       " 0  0  0  0  1"
      ]
     },
     "execution_count": 18,
     "metadata": {},
     "output_type": "execute_result"
    }
   ],
   "source": [
    "# OneHot encoding for target variable\n",
    "\n",
    "targets = diamondTargetOneHotEncoding(df_preprocesed)"
   ]
  },
  {
   "cell_type": "markdown",
   "metadata": {},
   "source": [
    "## 4.2. Split dataset into train, test"
   ]
  },
  {
   "cell_type": "code",
   "execution_count": null,
   "metadata": {},
   "outputs": [],
   "source": []
  },
  {
   "cell_type": "markdown",
   "metadata": {},
   "source": [
    "## 4.3. Normalize numeric features by zero mean."
   ]
  },
  {
   "cell_type": "code",
   "execution_count": 19,
   "metadata": {},
   "outputs": [
    {
     "ename": "LoadError",
     "evalue": "MethodError: no method matching normalizeZeroMean(::DataFrame, ::Tuple{Matrix{Real}, Matrix{Float64}})\n\u001b[0mClosest candidates are:\n\u001b[0m  normalizeZeroMean(\u001b[91m::AbstractMatrix{<:Real}\u001b[39m, ::Tuple{AbstractMatrix{<:Real}, AbstractMatrix{<:Real}}) at c:\\Users\\Juan\\Documents\\MIA USC\\ML1\\MIA_ML1_Grupo\\ML-Grupal\\diamonds-classification\\assignments_functions.jl:79",
     "output_type": "error",
     "traceback": [
      "MethodError: no method matching normalizeZeroMean(::DataFrame, ::Tuple{Matrix{Real}, Matrix{Float64}})\n\u001b[0mClosest candidates are:\n\u001b[0m  normalizeZeroMean(\u001b[91m::AbstractMatrix{<:Real}\u001b[39m, ::Tuple{AbstractMatrix{<:Real}, AbstractMatrix{<:Real}}) at c:\\Users\\Juan\\Documents\\MIA USC\\ML1\\MIA_ML1_Grupo\\ML-Grupal\\diamonds-classification\\assignments_functions.jl:79",
      "",
      "Stacktrace:",
      " [1] top-level scope",
      "   @ In[19]:7",
      " [2] eval",
      "   @ .\\boot.jl:368 [inlined]",
      " [3] include_string(mapexpr::typeof(REPL.softscope), mod::Module, code::String, filename::String)",
      "   @ Base .\\loading.jl:1428"
     ]
    }
   ],
   "source": [
    "# Normalize numeric variables (zero mean)\n",
    "\n",
    "numerical_columns = Matrix{Real}(df_ordinal_encoded[!, numerical_columns])\n",
    "\n",
    "normalization_parameters = calculateZeroMeanNormalizationParameters(numerical_columns) # Only with train set.\n",
    "\n",
    "display(normalizeZeroMean(df_ordinal_encoded, normalization_parameters))\n",
    "numerical_features_normalized = normalizeZeroMean(df_ordinal_encoded, normalization_parameters)"
   ]
  }
 ],
 "metadata": {
  "kernelspec": {
   "display_name": "Julia 1.8.1",
   "language": "julia",
   "name": "julia-1.8"
  },
  "language_info": {
   "file_extension": ".jl",
   "mimetype": "application/julia",
   "name": "julia",
   "version": "1.8.1"
  },
  "orig_nbformat": 4,
  "vscode": {
   "interpreter": {
    "hash": "06b1b7ed731f739999fce74f82a47dba7ae5cbbe55ae758f8d1f2a96cac7b7f1"
   }
  }
 },
 "nbformat": 4,
 "nbformat_minor": 2
}
